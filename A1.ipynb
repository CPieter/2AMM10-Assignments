{
  "cells": [
    {
      "cell_type": "markdown",
      "id": "061fed27",
      "metadata": {
        "colab_type": "text",
        "id": "view-in-github"
      },
      "source": [
        "<a href=\"https://colab.research.google.com/github/CPieter/2AMM10-Assignments/blob/main/A1.ipynb\" target=\"_parent\"><img src=\"https://colab.research.google.com/assets/colab-badge.svg\" alt=\"Open In Colab\"/></a>"
      ]
    },
    {
      "cell_type": "markdown",
      "id": "cc4f04c033b0e00",
      "metadata": {
        "collapsed": false,
        "id": "cc4f04c033b0e00",
        "jupyter": {
          "outputs_hidden": false
        }
      },
      "source": [
        "# Assignment 1 2AMM10 2023-2024\n",
        "\n",
        "## Group: [Fill in your group name]\n",
        "### Member 1: [Fill in your name]\n",
        "### Member 2: [Fill in your name]\n",
        "### Member 3: [Fill in your name]"
      ]
    },
    {
      "cell_type": "code",
      "execution_count": null,
      "id": "initial_id",
      "metadata": {
        "id": "initial_id"
      },
      "outputs": [],
      "source": [
        "import numpy as np\n",
        "import torch\n",
        "import matplotlib.pyplot as plt\n",
        "import pickle"
      ]
    },
    {
      "cell_type": "code",
      "execution_count": null,
      "id": "d19b9de0e3461531",
      "metadata": {
        "colab": {
          "base_uri": "https://localhost:8080/",
          "height": 297
        },
        "id": "d19b9de0e3461531",
        "jupyter": {
          "outputs_hidden": false
        },
        "outputId": "90e4bed4-17fb-4a64-a8c4-7c85d4751fb7"
      },
      "outputs": [
        {
          "ename": "FileNotFoundError",
          "evalue": "[Errno 2] No such file or directory: 'data/a1/train_data.pkl'",
          "output_type": "error",
          "traceback": [
            "\u001b[0;31m---------------------------------------------------------------------------\u001b[0m",
            "\u001b[0;31mFileNotFoundError\u001b[0m                         Traceback (most recent call last)",
            "\u001b[0;32m<ipython-input-2-f5eea1b8081c>\u001b[0m in \u001b[0;36m<cell line: 14>\u001b[0;34m()\u001b[0m\n\u001b[1;32m     12\u001b[0m     \u001b[0;32mreturn\u001b[0m \u001b[0mdata_dict\u001b[0m\u001b[0;34m\u001b[0m\u001b[0;34m\u001b[0m\u001b[0m\n\u001b[1;32m     13\u001b[0m \u001b[0;34m\u001b[0m\u001b[0m\n\u001b[0;32m---> 14\u001b[0;31m \u001b[0mtrain_data\u001b[0m \u001b[0;34m=\u001b[0m \u001b[0mload_data\u001b[0m\u001b[0;34m(\u001b[0m\u001b[0;34m'data/a1/train_data.pkl'\u001b[0m\u001b[0;34m)\u001b[0m\u001b[0;34m\u001b[0m\u001b[0;34m\u001b[0m\u001b[0m\n\u001b[0m",
            "\u001b[0;32m<ipython-input-2-f5eea1b8081c>\u001b[0m in \u001b[0;36mload_data\u001b[0;34m(file)\u001b[0m\n\u001b[1;32m      8\u001b[0m      \u001b[0mPlease\u001b[0m \u001b[0msee\u001b[0m \u001b[0mthe\u001b[0m \u001b[0mcells\u001b[0m \u001b[0;32mwith\u001b[0m \u001b[0mexample\u001b[0m \u001b[0mcode\u001b[0m \u001b[0mbelow\u001b[0m \u001b[0;32mfor\u001b[0m \u001b[0mexplanations\u001b[0m \u001b[0;32mand\u001b[0m \u001b[0mexamples\u001b[0m \u001b[0mof\u001b[0m \u001b[0mthe\u001b[0m \u001b[0mdata\u001b[0m \u001b[0mstructure\u001b[0m \u001b[0mper\u001b[0m \u001b[0mdata\u001b[0m \u001b[0mset\u001b[0m\u001b[0;34m.\u001b[0m\u001b[0;34m\u001b[0m\u001b[0;34m\u001b[0m\u001b[0m\n\u001b[1;32m      9\u001b[0m     \"\"\"\n\u001b[0;32m---> 10\u001b[0;31m     \u001b[0;32mwith\u001b[0m \u001b[0mopen\u001b[0m\u001b[0;34m(\u001b[0m\u001b[0mfile\u001b[0m\u001b[0;34m,\u001b[0m \u001b[0;34m'rb'\u001b[0m\u001b[0;34m)\u001b[0m \u001b[0;32mas\u001b[0m \u001b[0mf\u001b[0m\u001b[0;34m:\u001b[0m\u001b[0;34m\u001b[0m\u001b[0;34m\u001b[0m\u001b[0m\n\u001b[0m\u001b[1;32m     11\u001b[0m         \u001b[0mdata_dict\u001b[0m \u001b[0;34m=\u001b[0m \u001b[0mpickle\u001b[0m\u001b[0;34m.\u001b[0m\u001b[0mload\u001b[0m\u001b[0;34m(\u001b[0m\u001b[0mf\u001b[0m\u001b[0;34m)\u001b[0m\u001b[0;34m\u001b[0m\u001b[0;34m\u001b[0m\u001b[0m\n\u001b[1;32m     12\u001b[0m     \u001b[0;32mreturn\u001b[0m \u001b[0mdata_dict\u001b[0m\u001b[0;34m\u001b[0m\u001b[0;34m\u001b[0m\u001b[0m\n",
            "\u001b[0;31mFileNotFoundError\u001b[0m: [Errno 2] No such file or directory: 'data/a1/train_data.pkl'"
          ]
        }
      ],
      "source": [
        "\n",
        "# function for loading the training data:\n",
        "\n",
        "def load_data(file):\n",
        "    \"\"\"\n",
        "    This function loads the data from the specified pickle file and returns a dictionary with the data\n",
        "    :param filename: the pickle file\n",
        "    :return: dict with data -- keys and values differ for the train data and test data for each task.\n",
        "     Please see the cells with example code below for explanations and examples of the data structure per data set.\n",
        "    \"\"\"\n",
        "    with open(file, 'rb') as f:\n",
        "        data_dict = pickle.load(f)\n",
        "    return data_dict\n",
        "\n",
        "train_data = load_data('data/a1/train_data.pkl')"
      ]
    },
    {
      "cell_type": "code",
      "execution_count": null,
      "id": "TiECgK1-djJJ",
      "metadata": {
        "colab": {
          "base_uri": "https://localhost:8080/"
        },
        "id": "TiECgK1-djJJ",
        "outputId": "2f67317b-0809-4c93-b61a-3fec1611cd12"
      },
      "outputs": [
        {
          "name": "stdout",
          "output_type": "stream",
          "text": [
            "mkdir: cannot create directory ‘drive’: File exists\n",
            "Drive already mounted at drive; to attempt to forcibly remount, call drive.mount(\"drive\", force_remount=True).\n"
          ]
        }
      ],
      "source": [
        "# '''\n",
        "# use this cell to mount your drive if you're using Google Colab\n",
        "from google.colab import drive\n",
        "!mkdir drive\n",
        "drive.mount('drive')\n",
        "\n",
        "train_data = load_data('drive/MyDrive/GoogleColab/2AMM10/data_A1_2AMM10_2023_2024/train_data.pkl')\n",
        "data_dict_test = load_data('drive/MyDrive/GoogleColab/2AMM10/data_A1_2AMM10_2023_2024/test_data_task1.pkl')\n",
        "data_dict_test_task2 = load_data('drive/MyDrive/GoogleColab/2AMM10/data_A1_2AMM10_2023_2024/test_data_task2.pkl')\n",
        "# '''"
      ]
    },
    {
      "cell_type": "code",
      "execution_count": null,
      "id": "289b9d9817ddf745",
      "metadata": {
        "colab": {
          "base_uri": "https://localhost:8080/"
        },
        "id": "289b9d9817ddf745",
        "jupyter": {
          "outputs_hidden": false
        },
        "outputId": "b5147666-74f4-4f33-efba-e3ec7af38899"
      },
      "outputs": [
        {
          "name": "stdout",
          "output_type": "stream",
          "text": [
            "example alphabet names: ['Alphabet_of_the_Magi', 'Anglo-Saxon_Futhorc', 'Arcadian', 'Armenian', 'Asomtavruli_(Georgian)']\n",
            "\n",
            "\n",
            "how to get an example image for a specific character:\n",
            "shape of image 2 of character character06 of alphabet Asomtavruli_(Georgian): torch.Size([1, 105, 105])\n"
          ]
        }
      ],
      "source": [
        "# the structure of the training data is a dict, where the keys are strings indicating the alphabet.\n",
        "# The values are again dicts, with the keys being the character and the values being a list of images of that character.\n",
        "\n",
        "# see the code below for examples of working with the train data\n",
        "\n",
        "alphabets = list(train_data.keys())\n",
        "\n",
        "\n",
        "print('example alphabet names:', alphabets[:5])\n",
        "print('\\n')\n",
        "print('how to get an example image for a specific character:')\n",
        "\n",
        "alphabet_id = 4\n",
        "alphabet = alphabets[alphabet_id]  # a dict\n",
        "characters_for_this_alphabet = list(train_data[alphabet].keys())\n",
        "character_id = 5\n",
        "character = characters_for_this_alphabet[character_id]\n",
        "image_id = 2\n",
        "\n",
        "print(f'shape of image {image_id} of character {character} of alphabet {alphabet}:', train_data[alphabet][character][image_id].shape)"
      ]
    },
    {
      "cell_type": "code",
      "execution_count": null,
      "id": "f68bfac0812b8988",
      "metadata": {
        "id": "f68bfac0812b8988",
        "jupyter": {
          "outputs_hidden": false
        }
      },
      "outputs": [],
      "source": [
        "# function for plotting some examples:\n",
        "\n",
        "def plot_example_data(data_dict):\n",
        "    \"\"\"\n",
        "    This function plots some examples of the data\n",
        "    :param data_dict: dict with as keys a string specifying the alphabet, and as values a dict with as keys the character of the alphabet, and as values a list om images of the alphabet\n",
        "    \"\"\"\n",
        "    fig, axs = plt.subplots(2, 5, figsize=(15, 6))\n",
        "    alphabets_to_plot = np.random.choice(list(data_dict.keys()), size=10, replace=False)\n",
        "\n",
        "    for i, alphabet in enumerate(alphabets_to_plot):\n",
        "        characters = data_dict[alphabet]\n",
        "        character_to_plot = np.random.choice(list(characters.keys()), size=1)[0]\n",
        "        images = characters[character_to_plot]\n",
        "        im_idx = np.random.choice(len(images), size=1)[0]\n",
        "        print(images[im_idx].shape)\n",
        "        axs[i//5, i%5].imshow(images[im_idx].permute(1, 2, 0))\n",
        "        axs[i//5, i%5].set_title(alphabet + '\\n' + character_to_plot, fontsize=8)\n",
        "        axs[i//5, i%5].axis('off')\n",
        "    # plt.show()\n"
      ]
    },
    {
      "cell_type": "code",
      "execution_count": null,
      "id": "511e9fbc1b85e80f",
      "metadata": {
        "colab": {
          "base_uri": "https://localhost:8080/",
          "height": 709
        },
        "id": "511e9fbc1b85e80f",
        "jupyter": {
          "outputs_hidden": false
        },
        "outputId": "199e2ef9-e444-43c3-f5f8-44acffca3499"
      },
      "outputs": [
        {
          "name": "stdout",
          "output_type": "stream",
          "text": [
            "torch.Size([1, 105, 105])\n",
            "torch.Size([1, 105, 105])\n",
            "torch.Size([1, 105, 105])\n",
            "torch.Size([1, 105, 105])\n",
            "torch.Size([1, 105, 105])\n",
            "torch.Size([1, 105, 105])\n",
            "torch.Size([1, 105, 105])\n",
            "torch.Size([1, 105, 105])\n",
            "torch.Size([1, 105, 105])\n",
            "torch.Size([1, 105, 105])\n"
          ]
        },
        {
          "data": {
            "text/plain": [
              "<Figure size 640x480 with 0 Axes>"
            ]
          },
          "metadata": {},
          "output_type": "display_data"
        },
        {
          "data": {
            "image/png": "[encoded data removed]",
            "text/plain": [
              "<Figure size 1500x600 with 10 Axes>"
            ]
          },
          "metadata": {},
          "output_type": "display_data"
        }
      ],
      "source": [
        "plt.figure()\n",
        "plot_example_data(train_data)\n",
        "# plt.savefig('example_data.png', dpi=600)\n",
        "plt.show()"
      ]
    },
    {
      "cell_type": "markdown",
      "id": "b6449bef2185716",
      "metadata": {
        "collapsed": false,
        "id": "b6449bef2185716",
        "jupyter": {
          "outputs_hidden": false
        }
      },
      "source": [
        "# Task 1: character recognition"
      ]
    },
    {
      "cell_type": "code",
      "execution_count": null,
      "id": "f78ab6a6133991a4",
      "metadata": {
        "id": "f78ab6a6133991a4",
        "jupyter": {
          "outputs_hidden": false
        }
      },
      "outputs": [],
      "source": [
        "# our solution:\n",
        "import pandas as pd\n",
        "\n",
        "# print(train_data['Alphabet_of_the_Magi']['character01'])\n",
        "# print(len(train_data['Alphabet_of_the_Magi']['character01']))\n",
        "\n",
        "df_tobe = []\n",
        "for alphabet in train_data.keys():\n",
        "    for key in train_data[alphabet].keys():\n",
        "        for image in train_data[alphabet][key]:\n",
        "            df_tobe.append((alphabet + '_' + key, image))\n",
        "train_data_df = pd.DataFrame(data=df_tobe)\n",
        "\n",
        "# train_data_df = pd.DataFrame(data=((alphabet + '_' + key, image) for image in train_data[alphabet][key] for key in train_data[alphabet].keys() for alphabet in train_data.keys()))\n",
        "# print(train_data_df[0])\n",
        "# print(np.array(train_data_df[1][0]).shape)"
      ]
    },
    {
      "cell_type": "code",
      "execution_count": null,
      "id": "5ddb7870",
      "metadata": {
        "colab": {
          "base_uri": "https://localhost:8080/"
        },
        "id": "5ddb7870",
        "outputId": "c71d4100-ed6e-4e9d-ee0c-20a5b95f518a"
      },
      "outputs": [
        {
          "name": "stdout",
          "output_type": "stream",
          "text": [
            "dict_keys(['Alphabet_of_the_Magi', 'Anglo-Saxon_Futhorc', 'Arcadian', 'Armenian', 'Asomtavruli_(Georgian)', 'Balinese', 'Bengali', 'Blackfoot_(Canadian_Aboriginal_Syllabics)', 'Braille', 'Burmese_(Myanmar)', 'Cyrillic', 'Early_Aramaic', 'Futurama', 'Grantha', 'Greek', 'Gujarati', 'Hebrew', 'Inuktitut_(Canadian_Aboriginal_Syllabics)', 'Japanese_(hiragana)', 'Japanese_(katakana)', 'Korean', 'Latin', 'Malay_(Jawi_-_Arabic)', 'Mkhedruli_(Georgian)', 'N_Ko', 'Ojibwe_(Canadian_Aboriginal_Syllabics)', 'Sanskrit', 'Syriac_(Estrangelo)', 'Tagalog', 'Tifinagh'])\n"
          ]
        }
      ],
      "source": [
        "print(train_data.keys())\n",
        "\n",
        "# random seed\n",
        "random_seed = 42\n",
        "\n",
        "from sklearn.model_selection import train_test_split\n",
        "# split dataset into training set and validation set\n",
        "train_size = 0.8  # 80:20 split\n",
        "\n",
        "inputs_train, inputs_valid = train_test_split(\n",
        "    train_data_df[1],\n",
        "    random_state=random_seed,\n",
        "    train_size=train_size,\n",
        "    shuffle=True)\n",
        "\n",
        "targets_train, targets_valid = train_test_split(\n",
        "    train_data_df[0],\n",
        "    random_state=random_seed,\n",
        "    train_size=train_size,\n",
        "    shuffle=True)\n",
        "\n",
        "# for alphabet in train_data.keys():\n",
        "#     for character in train_data[alphabet].keys():\n",
        "#         print(len(train_data[alphabet][character]))"
      ]
    },
    {
      "cell_type": "code",
      "execution_count": null,
      "id": "lp2fYxk3WDaw",
      "metadata": {
        "id": "lp2fYxk3WDaw"
      },
      "outputs": [],
      "source": [
        "label_to_idx_train = {k: v for v, k in enumerate(train_data_df[0].unique())}\n",
        "idx_to_label_train = {v: k for v, k in enumerate(train_data_df[0].unique())}\n",
        "\n",
        "inputs_train = inputs_train.values\n",
        "inputs_valid = inputs_valid.values\n",
        "\n",
        "targets_train = np.array([label_to_idx_train[label] for label in targets_train])\n",
        "targets_valid = np.array([label_to_idx_train[label] for label in targets_valid])"
      ]
    },
    {
      "cell_type": "code",
      "execution_count": null,
      "id": "16b4aff5112f09b7",
      "metadata": {
        "id": "16b4aff5112f09b7",
        "jupyter": {
          "outputs_hidden": false
        }
      },
      "outputs": [],
      "source": [
        "# Datasets and Dataloaders\n",
        "from PIL import Image\n",
        "from torch.utils.data import Dataset\n",
        "from torch.utils.data.sampler import BatchSampler\n",
        "from itertools import combinations\n",
        "\n",
        "\n",
        "class CustomImageDataset(Dataset):\n",
        "    def __init__(self, inputs: list, targets: list, transform=None, target_transform=None):\n",
        "        self.inputs = inputs\n",
        "        self.targets = targets\n",
        "        self.transform = transform\n",
        "        self.target_transform = target_transform\n",
        "        self.classes = label_to_idx_train.keys()\n",
        "\n",
        "        self.inputs_dtype = torch.float32\n",
        "        self.targets_dtype = torch.long\n",
        "\n",
        "    def __len__(self):\n",
        "        return len(self.targets)\n",
        "\n",
        "    def __getitem__(self, index: int):\n",
        "\n",
        "        input_id = self.inputs[index]\n",
        "        target_id = self.targets[index]\n",
        "\n",
        "        x = self.inputs[index]\n",
        "        y = self.targets[index]\n",
        "\n",
        "        # Load input and target\n",
        "        #x=Image.open(input_id)\n",
        "        #y=Image.open(target_id)\n",
        "\n",
        "        # Preprocessing\n",
        "        if self.transform is not None:\n",
        "            x=self.transform(x).type(self.inputs_dtype)\n",
        "\n",
        "        return x, y\n",
        "\n",
        "class BalancedBatchSampler(BatchSampler):\n",
        "    \"\"\"\n",
        "    Returns batches of size n_classes * n_samples\n",
        "    \"\"\"\n",
        "\n",
        "    def __init__(self, labels, n_classes, n_samples):\n",
        "        self.labels = labels\n",
        "\n",
        "        # unique_labels = np.unique(np.array(self.labels))\n",
        "        # self.labels_set = unique_labels.tolist()\n",
        "        self.labels_set = list(set(self.labels))\n",
        "        self.label_to_indices = {label: np.where(np.array(self.labels) == label)[0]\n",
        "                                 for label in self.labels_set}\n",
        "        for l in self.labels_set:\n",
        "            np.random.shuffle(self.label_to_indices[l])\n",
        "        self.used_label_indices_count = {label: 0 for label in self.labels_set}\n",
        "        self.count = 0\n",
        "        self.n_classes = n_classes\n",
        "        self.n_samples = n_samples\n",
        "        self.n_dataset = len(self.labels)\n",
        "        self.batch_size = self.n_samples * self.n_classes\n",
        "\n",
        "    def __iter__(self):\n",
        "        self.count = 0\n",
        "        while self.count + self.batch_size < self.n_dataset:\n",
        "            classes = np.random.choice(self.labels_set, self.n_classes, replace=False)\n",
        "            indices = []\n",
        "            for class_ in classes:\n",
        "                indices.extend(self.label_to_indices[class_][\n",
        "                               self.used_label_indices_count[class_]:self.used_label_indices_count[\n",
        "                                                                         class_] + self.n_samples])\n",
        "                self.used_label_indices_count[class_] += self.n_samples\n",
        "                if self.used_label_indices_count[class_] + self.n_samples > len(self.label_to_indices[class_]):\n",
        "                    np.random.shuffle(self.label_to_indices[class_])\n",
        "                    self.used_label_indices_count[class_] = 0\n",
        "            yield indices\n",
        "            self.count += self.n_classes * self.n_samples\n",
        "\n",
        "    def __len__(self):\n",
        "        return self.n_dataset // self.batch_size\n",
        "\n",
        "\n",
        "class RandomTripletSelector():\n",
        "    \"\"\"\n",
        "    Select random negative  example for  each positive pair  to create triplets\n",
        "    \"\"\"\n",
        "\n",
        "    def __init__(self):\n",
        "        super(RandomTripletSelector, self).__init__()\n",
        "\n",
        "    def get_triplets(self, embeddings, labels):\n",
        "        labels = labels.cpu().data.numpy()\n",
        "        triplets = []\n",
        "        for label in set(labels):\n",
        "            label_mask = (labels == label)\n",
        "            label_indices = np.where(label_mask)[0]\n",
        "            if len(label_indices) < 2:\n",
        "                continue\n",
        "            negative_indices = np.where(np.logical_not(label_mask))[0]\n",
        "            anchor_positives = list(combinations(label_indices, 2))  # All anchor-positive pairs\n",
        "\n",
        "            # random choose one negative example for each positive pair\n",
        "            temp_triplets = [[anchor_positive[0], anchor_positive[1], np.random.choice(negative_indices)] for anchor_positive in anchor_positives]\n",
        "            triplets += temp_triplets\n",
        "\n",
        "        return torch.LongTensor(np.array(triplets))"
      ]
    },
    {
      "cell_type": "code",
      "execution_count": null,
      "id": "a321cda7dee1f559",
      "metadata": {
        "id": "a321cda7dee1f559",
        "jupyter": {
          "outputs_hidden": false
        }
      },
      "outputs": [],
      "source": [
        "import torchvision.transforms as transforms\n",
        "from torchvision.transforms import Compose, ToTensor, Resize\n",
        "\n",
        "image_size_task1 = (32,32)\n",
        "\n",
        "DATA_TRANSFORM_TASK1= transforms.Compose([\n",
        "    transforms.Resize(image_size_task1),\n",
        "    transforms.RandomRotation(10)\n",
        "    # transforms.ToTensor(),\n",
        "    ])\n",
        "\n",
        "train_dataset_task1 = CustomImageDataset(inputs=inputs_train.copy(), targets=targets_train.copy(), transform=DATA_TRANSFORM_TASK1)\n",
        "val_dataset_task1 = CustomImageDataset(inputs=inputs_valid.copy(), targets=targets_valid.copy(), transform=DATA_TRANSFORM_TASK1)\n",
        "\n",
        "train_batch_sampler_task1 = BalancedBatchSampler(train_dataset_task1.targets, n_classes=20, n_samples=5)\n",
        "test_batch_sampler_task1 = BalancedBatchSampler(val_dataset_task1.targets, n_classes=20, n_samples=5)\n",
        "\n",
        "triplets_train_loader_task1 = torch.utils.data.DataLoader(train_dataset_task1, batch_sampler=train_batch_sampler_task1)\n",
        "triplets_val_loader_task1 = torch.utils.data.DataLoader(val_dataset_task1, batch_sampler=test_batch_sampler_task1)"
      ]
    },
    {
      "cell_type": "markdown",
      "id": "vLZznpi3mxoh",
      "metadata": {
        "id": "vLZznpi3mxoh"
      },
      "source": [
        "# Model"
      ]
    },
    {
      "cell_type": "code",
      "execution_count": null,
      "id": "948e55a5ea036e8a",
      "metadata": {
        "id": "948e55a5ea036e8a",
        "jupyter": {
          "outputs_hidden": false
        }
      },
      "outputs": [],
      "source": [
        "import torch\n",
        "import torch.nn as nn\n",
        "import torch.nn.functional as F\n",
        "\n",
        "class Lambda(nn.Module):\n",
        "    def __init__(self, func):\n",
        "        super().__init__()\n",
        "        self.func = func\n",
        "\n",
        "    def forward(self, x):\n",
        "        return self.func(x)\n",
        "\n",
        "class EmbeddingNet_Task1(nn.Module):\n",
        "    def __init__(self, embedding_size=40):\n",
        "        \"\"\"CNN Builder.\"\"\"\n",
        "        super(EmbeddingNet_Task1, self).__init__()\n",
        "\n",
        "        self.embedding_size = embedding_size\n",
        "\n",
        "        self.front_layer = nn.Sequential(\n",
        "            # Conv Layer block 1\n",
        "            nn.Conv2d(in_channels=1, out_channels=32, kernel_size=3, padding=1),\n",
        "            nn.BatchNorm2d(32),\n",
        "            nn.ReLU(inplace=True),\n",
        "            nn.Conv2d(in_channels=32, out_channels=64, kernel_size=3, padding=1),\n",
        "            nn.ReLU(inplace=True),\n",
        "            nn.MaxPool2d(kernel_size=2, stride=2),\n",
        "\n",
        "            # Conv Layer block 2\n",
        "            nn.Conv2d(in_channels=64, out_channels=128, kernel_size=3, padding=1),\n",
        "            nn.BatchNorm2d(128),\n",
        "            nn.ReLU(inplace=True),\n",
        "            nn.Conv2d(in_channels=128, out_channels=128, kernel_size=3, padding=1),\n",
        "            nn.ReLU(inplace=True),\n",
        "            nn.MaxPool2d(kernel_size=2, stride=2),\n",
        "\n",
        "\n",
        "            # Conv Layer block 3\n",
        "            nn.Conv2d(in_channels=128, out_channels=256, kernel_size=3, padding=1),\n",
        "            nn.BatchNorm2d(256),\n",
        "            nn.ReLU(inplace=True),\n",
        "            nn.Conv2d(in_channels=256, out_channels=256, kernel_size=3, padding=1),\n",
        "            nn.ReLU(inplace=True),\n",
        "            nn.MaxPool2d(kernel_size=2, stride=2),\n",
        "\n",
        "            Lambda(lambda x: x.view(x.size(0), -1)),\n",
        "\n",
        "            nn.Linear(4096, 1024),\n",
        "            nn.ReLU(inplace=True),\n",
        "            nn.Linear(1024, 512),\n",
        "            nn.ReLU(inplace=True),\n",
        "        )\n",
        "\n",
        "        self.last_layer = nn.Linear(512, self.embedding_size)\n",
        "\n",
        "    def forward(self, x):\n",
        "        \"\"\"Perform forward.\"\"\"\n",
        "        # conv layers\n",
        "        x = self.front_layer(x)\n",
        "        x = self.last_layer(x)\n",
        "        return x\n",
        "\n",
        "    def get_embedding(self, x):\n",
        "        return self.forward(x)\n",
        "\n",
        "class TripletLoss(nn.Module):\n",
        "    \"\"\"\n",
        "    Triplets loss\n",
        "    Takes a batch of embeddings and corresponding labels.\n",
        "    Triplets are generated using triplet_selector object that take embeddings and targets and return indices of\n",
        "    triplets\n",
        "    \"\"\"\n",
        "\n",
        "    def __init__(self, margin, triplet_selector):\n",
        "        super(TripletLoss, self).__init__()\n",
        "        self.margin = margin\n",
        "        self.triplet_selector = triplet_selector\n",
        "\n",
        "    def forward(self, embeddings, target):\n",
        "\n",
        "        triplets = self.triplet_selector.get_triplets(embeddings, target)\n",
        "\n",
        "        if embeddings.is_cuda:\n",
        "            triplets = triplets.cuda()\n",
        "\n",
        "        anchor_idx= triplets[:, 0]\n",
        "        positive_idx= triplets[:, 1]\n",
        "        negative_idx= triplets[:, 2]\n",
        "\n",
        "\n",
        "        ap_distances = (embeddings[anchor_idx] - embeddings[positive_idx]).pow(2).sum(1)  # .pow(.5)\n",
        "        an_distances = (embeddings[anchor_idx] - embeddings[negative_idx]).pow(2).sum(1)  # .pow(.5)\n",
        "        losses = F.relu(ap_distances - an_distances + self.margin)\n",
        "\n",
        "        return losses.mean()"
      ]
    },
    {
      "cell_type": "markdown",
      "id": "I4j4D7Hmm2Wf",
      "metadata": {
        "id": "I4j4D7Hmm2Wf"
      },
      "source": [
        "# Training"
      ]
    },
    {
      "cell_type": "code",
      "execution_count": null,
      "id": "4157ac4e",
      "metadata": {
        "id": "4157ac4e"
      },
      "outputs": [],
      "source": [
        "import numpy as np\n",
        "from tqdm import tqdm\n",
        "\n",
        "\n",
        "class Trainer():\n",
        "    def __init__(self,\n",
        "                 model: torch.nn.Module,\n",
        "                 device: torch.device,\n",
        "                 criterion: torch.nn.Module,\n",
        "                 optimizer: torch.optim.Optimizer,\n",
        "                 training_DataLoader: torch.utils.data.Dataset,\n",
        "                 validation_DataLoader: torch.utils.data.Dataset ,\n",
        "                 epochs: int\n",
        "                 ):\n",
        "\n",
        "        self.model = model\n",
        "        self.criterion = criterion\n",
        "        self.optimizer = optimizer\n",
        "        self.training_DataLoader = training_DataLoader\n",
        "        self.validation_DataLoader = validation_DataLoader\n",
        "        self.device = device\n",
        "        self.epochs = epochs\n",
        "\n",
        "\n",
        "\n",
        "\n",
        "    def run_trainer(self):\n",
        "\n",
        "\n",
        "        for epoch in tqdm(range(self.epochs)):\n",
        "\n",
        "\n",
        "\n",
        "            self.model.train()  # train mode\n",
        "\n",
        "            train_losses=[]\n",
        "            for batch in self.training_DataLoader:\n",
        "\n",
        "                x,y=batch\n",
        "                input, target = x.to(self.device), y.to(self.device)  # send to device (GPU or CPU)\n",
        "                self.optimizer.zero_grad()  # zerograd the parameters\n",
        "                out = self.model(input)  # one forward pass\n",
        "                loss = self.criterion(out, target)  # calculate loss\n",
        "\n",
        "                loss_value = loss.item()\n",
        "                train_losses.append(loss_value)\n",
        "\n",
        "                loss.backward()  # one backward pass\n",
        "                self.optimizer.step()  # update the parameters\n",
        "\n",
        "\n",
        "\n",
        "            self.model.eval()  # evaluation mode\n",
        "            valid_losses = []  # accumulate the losses here\n",
        "\n",
        "            for batch in self.validation_DataLoader:\n",
        "\n",
        "                x,y=batch\n",
        "                input, target = x.to(self.device), y.to(self.device)  # send to device (GPU or CPU)\n",
        "\n",
        "                with torch.no_grad():\n",
        "                    out = self.model(input)   # one forward pass\n",
        "                    loss = self.criterion(out, target) # calculate loss\n",
        "\n",
        "                    loss_value = loss.item()\n",
        "                    valid_losses.append(loss_value)\n",
        "\n",
        "\n",
        "\n",
        "            # print the results\n",
        "            print(\n",
        "                f'EPOCH: {epoch+1:0>{len(str(self.epochs))}}/{self.epochs}',\n",
        "                end=' '\n",
        "            )\n",
        "            print(f'LOSS: {np.mean(train_losses):.4f}',end=' ')\n",
        "            print(f'VAL-LOSS: {np.mean(valid_losses):.4f}',end='\\n')"
      ]
    },
    {
      "cell_type": "code",
      "execution_count": null,
      "id": "gZ5PcDDNnCBz",
      "metadata": {
        "colab": {
          "base_uri": "https://localhost:8080/"
        },
        "id": "gZ5PcDDNnCBz",
        "outputId": "186eb5da-59d6-4dda-ee9e-79ee09dafead"
      },
      "outputs": [
        {
          "name": "stderr",
          "output_type": "stream",
          "text": [
            " 10%|█         | 1/10 [00:13<02:05, 13.92s/it]"
          ]
        },
        {
          "name": "stdout",
          "output_type": "stream",
          "text": [
            "EPOCH: 01/10 LOSS: 0.5826 VAL-LOSS: 0.3138\n"
          ]
        },
        {
          "name": "stderr",
          "output_type": "stream",
          "text": [
            "\r 20%|██        | 2/10 [00:27<01:48, 13.61s/it]"
          ]
        },
        {
          "name": "stdout",
          "output_type": "stream",
          "text": [
            "EPOCH: 02/10 LOSS: 0.2454 VAL-LOSS: 0.1950\n"
          ]
        },
        {
          "name": "stderr",
          "output_type": "stream",
          "text": [
            "\r 30%|███       | 3/10 [00:40<01:32, 13.26s/it]"
          ]
        },
        {
          "name": "stdout",
          "output_type": "stream",
          "text": [
            "EPOCH: 03/10 LOSS: 0.1700 VAL-LOSS: 0.1201\n"
          ]
        },
        {
          "name": "stderr",
          "output_type": "stream",
          "text": [
            "\r 40%|████      | 4/10 [00:53<01:18, 13.14s/it]"
          ]
        },
        {
          "name": "stdout",
          "output_type": "stream",
          "text": [
            "EPOCH: 04/10 LOSS: 0.1199 VAL-LOSS: 0.1114\n"
          ]
        },
        {
          "name": "stderr",
          "output_type": "stream",
          "text": [
            "\r 50%|█████     | 5/10 [01:05<01:05, 13.03s/it]"
          ]
        },
        {
          "name": "stdout",
          "output_type": "stream",
          "text": [
            "EPOCH: 05/10 LOSS: 0.0878 VAL-LOSS: 0.0782\n"
          ]
        },
        {
          "name": "stderr",
          "output_type": "stream",
          "text": [
            "\r 60%|██████    | 6/10 [01:19<00:52, 13.05s/it]"
          ]
        },
        {
          "name": "stdout",
          "output_type": "stream",
          "text": [
            "EPOCH: 06/10 LOSS: 0.0815 VAL-LOSS: 0.0872\n"
          ]
        },
        {
          "name": "stderr",
          "output_type": "stream",
          "text": [
            "\r 70%|███████   | 7/10 [01:31<00:38, 12.98s/it]"
          ]
        },
        {
          "name": "stdout",
          "output_type": "stream",
          "text": [
            "EPOCH: 07/10 LOSS: 0.0693 VAL-LOSS: 0.0614\n"
          ]
        },
        {
          "name": "stderr",
          "output_type": "stream",
          "text": [
            "\r 80%|████████  | 8/10 [01:44<00:25, 12.81s/it]"
          ]
        },
        {
          "name": "stdout",
          "output_type": "stream",
          "text": [
            "EPOCH: 08/10 LOSS: 0.0605 VAL-LOSS: 0.0632\n"
          ]
        },
        {
          "name": "stderr",
          "output_type": "stream",
          "text": [
            "\r 90%|█████████ | 9/10 [01:56<00:12, 12.64s/it]"
          ]
        },
        {
          "name": "stdout",
          "output_type": "stream",
          "text": [
            "EPOCH: 09/10 LOSS: 0.0539 VAL-LOSS: 0.0673\n"
          ]
        },
        {
          "name": "stderr",
          "output_type": "stream",
          "text": [
            "100%|██████████| 10/10 [02:08<00:00, 12.87s/it]"
          ]
        },
        {
          "name": "stdout",
          "output_type": "stream",
          "text": [
            "EPOCH: 10/10 LOSS: 0.0458 VAL-LOSS: 0.0544\n"
          ]
        },
        {
          "name": "stderr",
          "output_type": "stream",
          "text": [
            "\n"
          ]
        }
      ],
      "source": [
        "# device\n",
        "if torch.cuda.is_available():\n",
        "    device = torch.device('cuda')\n",
        "else:\n",
        "    device=torch.device('cpu')\n",
        "\n",
        "# model\n",
        "embedding_net = EmbeddingNet_Task1()\n",
        "model1 = embedding_net.to(device)\n",
        "\n",
        "\n",
        "# margin value\n",
        "margin=1\n",
        "\n",
        "# criterion\n",
        "criterion = TripletLoss(margin,  RandomTripletSelector())\n",
        "\n",
        "# optimizer\n",
        "optimizer = torch.optim.SGD(model1.parameters(), lr=0.001, momentum=0.9)\n",
        "\n",
        "# trainer\n",
        "trainer = Trainer(model=model1,\n",
        "                  device=device,\n",
        "                  criterion=criterion,\n",
        "                  optimizer=optimizer,\n",
        "                  training_DataLoader=triplets_train_loader_task1,\n",
        "                  validation_DataLoader=triplets_val_loader_task1,\n",
        "                  epochs=10)\n",
        "\n",
        "# start training\n",
        "trainer.run_trainer()"
      ]
    },
    {
      "cell_type": "code",
      "execution_count": null,
      "id": "92c35f20",
      "metadata": {
        "id": "92c35f20"
      },
      "outputs": [],
      "source": [
        "torch.save(model1.state_dict(), 'a1_model1.pt')"
      ]
    },
    {
      "cell_type": "markdown",
      "id": "9XdQP5d-XKdP",
      "metadata": {
        "id": "9XdQP5d-XKdP"
      },
      "source": [
        "# Evaluation"
      ]
    },
    {
      "cell_type": "code",
      "execution_count": null,
      "id": "c80966c9",
      "metadata": {
        "colab": {
          "base_uri": "https://localhost:8080/"
        },
        "id": "c80966c9",
        "outputId": "99b77449-ae90-48a8-c5fc-48919169a54a"
      },
      "outputs": [
        {
          "data": {
            "text/plain": [
              "EmbeddingNet_Task1(\n",
              "  (front_layer): Sequential(\n",
              "    (0): Conv2d(1, 32, kernel_size=(3, 3), stride=(1, 1), padding=(1, 1))\n",
              "    (1): BatchNorm2d(32, eps=1e-05, momentum=0.1, affine=True, track_running_stats=True)\n",
              "    (2): ReLU(inplace=True)\n",
              "    (3): Conv2d(32, 64, kernel_size=(3, 3), stride=(1, 1), padding=(1, 1))\n",
              "    (4): ReLU(inplace=True)\n",
              "    (5): MaxPool2d(kernel_size=2, stride=2, padding=0, dilation=1, ceil_mode=False)\n",
              "    (6): Conv2d(64, 128, kernel_size=(3, 3), stride=(1, 1), padding=(1, 1))\n",
              "    (7): BatchNorm2d(128, eps=1e-05, momentum=0.1, affine=True, track_running_stats=True)\n",
              "    (8): ReLU(inplace=True)\n",
              "    (9): Conv2d(128, 128, kernel_size=(3, 3), stride=(1, 1), padding=(1, 1))\n",
              "    (10): ReLU(inplace=True)\n",
              "    (11): MaxPool2d(kernel_size=2, stride=2, padding=0, dilation=1, ceil_mode=False)\n",
              "    (12): Conv2d(128, 256, kernel_size=(3, 3), stride=(1, 1), padding=(1, 1))\n",
              "    (13): BatchNorm2d(256, eps=1e-05, momentum=0.1, affine=True, track_running_stats=True)\n",
              "    (14): ReLU(inplace=True)\n",
              "    (15): Conv2d(256, 256, kernel_size=(3, 3), stride=(1, 1), padding=(1, 1))\n",
              "    (16): ReLU(inplace=True)\n",
              "    (17): MaxPool2d(kernel_size=2, stride=2, padding=0, dilation=1, ceil_mode=False)\n",
              "    (18): Lambda()\n",
              "    (19): Linear(in_features=4096, out_features=1024, bias=True)\n",
              "    (20): ReLU(inplace=True)\n",
              "    (21): Linear(in_features=1024, out_features=512, bias=True)\n",
              "    (22): ReLU(inplace=True)\n",
              "  )\n",
              "  (last_layer): Linear(in_features=512, out_features=40, bias=True)\n",
              ")"
            ]
          },
          "execution_count": 35,
          "metadata": {},
          "output_type": "execute_result"
        }
      ],
      "source": [
        "model1 = EmbeddingNet_Task1()\n",
        "model1.load_state_dict(torch.load('a1_model1.pt'))\n",
        "# model1.eval()"
      ]
    },
    {
      "cell_type": "markdown",
      "id": "K3V0jr_1QjZZ",
      "metadata": {
        "id": "K3V0jr_1QjZZ"
      },
      "source": [
        "**ACCURACY**"
      ]
    },
    {
      "cell_type": "code",
      "execution_count": null,
      "id": "sJ0k27xraAuP",
      "metadata": {
        "id": "sJ0k27xraAuP"
      },
      "outputs": [],
      "source": [
        "def extract_embeddings(dataloader, model):\n",
        "\n",
        "    cuda = torch.cuda.is_available()\n",
        "    with torch.no_grad():\n",
        "        model.eval()\n",
        "        embeddings = np.zeros((len(dataloader.dataset), model.embedding_size))\n",
        "        labels = np.zeros(len(dataloader.dataset))\n",
        "        k = 0\n",
        "        for images, target in dataloader:\n",
        "            if cuda:\n",
        "                images = images.to(\"cuda\")\n",
        "            embeddings[k:k+len(images)] = model.get_embedding(images).data.cpu().numpy()\n",
        "            labels[k:k+len(images)] = target.numpy()\n",
        "            k += len(images)\n",
        "    return embeddings, labels"
      ]
    },
    {
      "cell_type": "code",
      "execution_count": null,
      "id": "e2ddb96c",
      "metadata": {
        "id": "e2ddb96c"
      },
      "outputs": [],
      "source": [
        "class CharacterMatcher:\n",
        "    def __init__(self, model, transform):\n",
        "        self.model = model\n",
        "        if torch.cuda.is_available():\n",
        "          self.model = model.to(\"cuda\")\n",
        "        self.transform = transform\n",
        "\n",
        "\n",
        "    def fit(self, alphabet, alphabet_labels, char_to_type=None, type_following_probs=None):\n",
        "        label_to_idx_alphabet = {label: idx for idx, label in enumerate(alphabet_labels)}\n",
        "        alphabet_targets = np.array([label_to_idx_alphabet[label] for label in alphabet_labels])\n",
        "\n",
        "        alphabet_dataset = CustomImageDataset(inputs=alphabet, targets=alphabet_targets, transform=self.transform)\n",
        "        alphabet_loader = torch.utils.data.DataLoader(alphabet_dataset, batch_size=256)\n",
        "\n",
        "        self.alphabet_embeddings, _ = extract_embeddings(alphabet_loader, self.model)\n",
        "        self.labels = alphabet_labels\n",
        "        self.char_to_type = char_to_type\n",
        "        self.type_following_probs = type_following_probs\n",
        "\n",
        "\n",
        "    def get_distance_multipliers(self, preceding_type, domain_knowledge_factor):\n",
        "        types = [self.char_to_type[label] for label in self.labels]\n",
        "        following_probs = [self.type_following_probs[preceding_type][following_type] for following_type in types]\n",
        "        multipliers = [1 - prob for prob in following_probs]\n",
        "        mult_mean = np.mean(np.array(multipliers))\n",
        "        # multipliers_with_factor = [1 - domain_knowledge_factor + domain_knowledge_factor * multiplier for multiplier in multipliers]\n",
        "        # multipliers_with_factor = [1 - domain_knowledge_factor * mult_mean**0.5 + domain_knowledge_factor * multiplier**0.5 for multiplier in multipliers]\n",
        "        multipliers_with_factor = [1 + domain_knowledge_factor * multiplier**2 for multiplier in multipliers]\n",
        "        return multipliers_with_factor\n",
        "\n",
        "\n",
        "    def get_matches(self, image, k=1, preceding_type=None, domain_knowledge_factor=0):\n",
        "        if len(self.labels) == 0:\n",
        "            print(\"character matcher must be fitted before matching\")\n",
        "            return\n",
        "\n",
        "        with torch.no_grad():\n",
        "            if torch.cuda.is_available():\n",
        "                image = image.cuda()\n",
        "            self.model.eval()\n",
        "\n",
        "            image = image[None,None,].type(torch.float32)\n",
        "            if self.transform is not None:\n",
        "                image = self.transform(image)\n",
        "\n",
        "            unseen_embedding = self.model.get_embedding(image).data.cpu().numpy()\n",
        "\n",
        "        distances = [np.linalg.norm(embedding - unseen_embedding) for embedding in self.alphabet_embeddings]\n",
        "\n",
        "        if preceding_type is not None:\n",
        "            multipliers = self.get_distance_multipliers(preceding_type, domain_knowledge_factor)\n",
        "            distances = [a*b for a,b in zip(distances, multipliers)]\n",
        "\n",
        "        distance_sort = np.argsort(distances)\n",
        "        return np.array(self.labels.copy())[distance_sort][:k].tolist()"
      ]
    },
    {
      "cell_type": "code",
      "execution_count": 108,
      "id": "8f8c9218",
      "metadata": {
        "id": "8f8c9218"
      },
      "outputs": [],
      "source": [
        "def get_accuracy(model, data_dict_test, k=1, transform=None, use_domain_knowledge=False, domain_knowledge_factor=1):\n",
        "    matcher = CharacterMatcher(model, transform)\n",
        "    total = 0\n",
        "    correct = 0\n",
        "\n",
        "    alphabets = list(data_dict_test['annotated_images'].keys())\n",
        "    for alphabet_id in tqdm(alphabets):\n",
        "\n",
        "        alphabet_annotated = data_dict_test['annotated_images'][alphabet_id]\n",
        "        alphabet_annotated_labels = data_dict_test['annotated_images_labels'][alphabet_id]\n",
        "        alphabet_unseen = data_dict_test['unseen_images'][alphabet_id]\n",
        "        alphabet_unseen_labels = data_dict_test['unseen_images_labels'][alphabet_id]\n",
        "        if use_domain_knowledge:\n",
        "          alphabet_unseen_preceding_types = data_dict_test[\"unseen_images_preceding_types\"][alphabet_id]\n",
        "\n",
        "        alphabet_char_to_type = None\n",
        "        alphabet_type_following_probs = None\n",
        "        if use_domain_knowledge is True:\n",
        "            alphabet_char_to_type = data_dict_test[\"character_to_type_mapping\"][alphabet_id]\n",
        "            alphabet_type_following_probs = data_dict_test[\"type_following_probs\"][alphabet_id]\n",
        "\n",
        "        matcher.fit(alphabet_annotated, alphabet_annotated_labels, alphabet_char_to_type, alphabet_type_following_probs)\n",
        "\n",
        "        for idx, character in enumerate(alphabet_unseen):\n",
        "            label = alphabet_unseen_labels[idx]\n",
        "\n",
        "            for image in character:\n",
        "\n",
        "                if use_domain_knowledge:\n",
        "                    preceding_type = alphabet_unseen_preceding_types[idx]\n",
        "                    k_closest_labels = matcher.get_matches(image, k, preceding_type, domain_knowledge_factor)\n",
        "                else:\n",
        "                    k_closest_labels = matcher.get_matches(image, k)\n",
        "\n",
        "                #assess\n",
        "                if label in k_closest_labels:\n",
        "                    correct += 1\n",
        "                total += 1\n",
        "\n",
        "    return correct / total"
      ]
    },
    {
      "cell_type": "code",
      "execution_count": 109,
      "id": "c9f82428",
      "metadata": {},
      "outputs": [
        {
          "name": "stderr",
          "output_type": "stream",
          "text": [
            "100%|██████████| 20/20 [01:46<00:00,  5.31s/it]\n"
          ]
        }
      ],
      "source": [
        "data_dict_test_task1 = load_data('data/a1/test_data_task1.pkl')\n",
        "accuracy = get_accuracy(model1, data_dict_test_task1, k=1, transform=DATA_TRANSFORM_TASK1)\n",
        "accuracy"
      ]
    },
    {
      "cell_type": "code",
      "execution_count": 213,
      "id": "3770d57a",
      "metadata": {},
      "outputs": [
        {
          "data": {
            "image/png": "[encoded data removed]",
            "text/plain": [
              "<Figure size 1200x300 with 3 Axes>"
            ]
          },
          "metadata": {},
          "output_type": "display_data"
        }
      ],
      "source": [
        "def display_random_match(model, data_dict_test, data_transform):\n",
        "    alphabets_test = list(data_dict_test['annotated_images'].keys())\n",
        "    alphabet_id = np.random.randint(0, len(alphabets_test))\n",
        "    alphabet = alphabets_test[alphabet_id]\n",
        "\n",
        "    alphabet_annotated = data_dict_test['annotated_images'][alphabet]\n",
        "    alphabet_annotated_labels = data_dict_test['annotated_images_labels'][alphabet]\n",
        "    alphabet_unseen = data_dict_test['unseen_images'][alphabet]\n",
        "    alphabet_unseen_labels = data_dict_test['unseen_images_labels'][alphabet]\n",
        "\n",
        "    character_id = np.random.randint(0, len(alphabet_unseen))\n",
        "    unseen_image = alphabet_unseen[character_id][0]\n",
        "    unseen_label = alphabet_unseen_labels[character_id]\n",
        "\n",
        "    matcher = CharacterMatcher(model, data_transform)\n",
        "    matcher.fit(alphabet_annotated, alphabet_annotated_labels)\n",
        "\n",
        "    matches = matcher.get_matches(unseen_image, k=1)\n",
        "\n",
        "    alphabet_labels_to_idx = {k: v for v, k in enumerate(alphabet_annotated_labels)}\n",
        "\n",
        "    matched_image = alphabet_annotated[alphabet_labels_to_idx[matches[0]]][0]\n",
        "    correct_image = alphabet_annotated[alphabet_labels_to_idx[unseen_label]][0]\n",
        "\n",
        "    fig, axs = plt.subplots(1, 3, figsize=(12, 3))\n",
        "\n",
        "    axs[0].imshow(unseen_image)\n",
        "    axs[0].set_title(\"input character\" + '\\n' + unseen_label, fontsize=8)\n",
        "    axs[0].axis('off')\n",
        "\n",
        "    axs[1].imshow(matched_image)\n",
        "    axs[1].set_title(\"best match\" + '\\n' + matches[0], fontsize=8)\n",
        "    axs[1].axis('off')\n",
        "\n",
        "    axs[2].imshow(correct_image)\n",
        "    axs[2].set_title(\"correct character\" + '\\n' + unseen_label, fontsize=8)\n",
        "    axs[2].axis('off')\n",
        "\n",
        "display_random_match(model1, data_dict_test_task1, DATA_TRANSFORM_TASK1)"
      ]
    },
    {
      "cell_type": "markdown",
      "id": "f49a6fcc9bcd5994",
      "metadata": {
        "collapsed": false,
        "id": "f49a6fcc9bcd5994",
        "jupyter": {
          "outputs_hidden": false
        }
      },
      "source": [
        "# Task 2: rotation problem"
      ]
    },
    {
      "cell_type": "code",
      "execution_count": null,
      "id": "aHsaX3wbsx6S",
      "metadata": {
        "id": "aHsaX3wbsx6S"
      },
      "outputs": [],
      "source": [
        "# Model for bigger images\n",
        "class EmbeddingNet_Task2(nn.Module):\n",
        "    def __init__(self, embedding_size=40):\n",
        "        \"\"\"CNN Builder.\"\"\"\n",
        "        super(EmbeddingNet_Task2, self).__init__()\n",
        "\n",
        "        self.embedding_size = embedding_size\n",
        "\n",
        "        self.front_layer = nn.Sequential(\n",
        "            # Conv Layer block 1\n",
        "            nn.Conv2d(in_channels=1, out_channels=32, kernel_size=5, padding=1),\n",
        "            nn.BatchNorm2d(32),\n",
        "            nn.ReLU(inplace=True),\n",
        "            nn.Conv2d(in_channels=32, out_channels=32, kernel_size=5, padding=1),\n",
        "            nn.ReLU(inplace=True),\n",
        "            nn.MaxPool2d(kernel_size=2, stride=2),\n",
        "\n",
        "            # Conv Layer block 2\n",
        "            nn.Conv2d(in_channels=32, out_channels=64, kernel_size=3, padding=1),\n",
        "            nn.BatchNorm2d(64),\n",
        "            nn.ReLU(inplace=True),\n",
        "            nn.Conv2d(in_channels=64, out_channels=64, kernel_size=3, padding=1),\n",
        "            nn.ReLU(inplace=True),\n",
        "            nn.MaxPool2d(kernel_size=2, stride=2),\n",
        "\n",
        "\n",
        "            # Conv Layer block 3\n",
        "            nn.Conv2d(in_channels=64, out_channels=128, kernel_size=5, padding=1),\n",
        "            nn.BatchNorm2d(128),\n",
        "            nn.ReLU(inplace=True),\n",
        "            nn.Conv2d(in_channels=128, out_channels=128, kernel_size=5, padding=1),\n",
        "            nn.ReLU(inplace=True),\n",
        "            nn.MaxPool2d(kernel_size=2, stride=2),\n",
        "\n",
        "            # Conv Layer block 4\n",
        "            nn.Conv2d(in_channels=128, out_channels=256, kernel_size=3, padding=1),\n",
        "            nn.BatchNorm2d(256),\n",
        "            nn.ReLU(inplace=True),\n",
        "            nn.Conv2d(in_channels=256, out_channels=256, kernel_size=3, padding=1),\n",
        "            nn.ReLU(inplace=True),\n",
        "            nn.MaxPool2d(kernel_size=2, stride=2),\n",
        "\n",
        "            Lambda(lambda x: x.view(x.size(0), -1)),\n",
        "\n",
        "            nn.Linear(1024, 1024),\n",
        "            nn.ReLU(inplace=True),\n",
        "            nn.Linear(1024, 512),\n",
        "            nn.ReLU(inplace=True),\n",
        "        )\n",
        "\n",
        "        self.last_layer = nn.Linear(512, self.embedding_size)\n",
        "\n",
        "    def forward(self, x):\n",
        "        \"\"\"Perform forward.\"\"\"\n",
        "        # conv layers\n",
        "        x = self.front_layer(x)\n",
        "        x = self.last_layer(x)\n",
        "        return x\n",
        "\n",
        "    def get_embedding(self, x):\n",
        "        return self.forward(x)"
      ]
    },
    {
      "cell_type": "code",
      "execution_count": null,
      "id": "800d9fa43d711ae0",
      "metadata": {
        "colab": {
          "base_uri": "https://localhost:8080/",
          "height": 297
        },
        "id": "800d9fa43d711ae0",
        "jupyter": {
          "outputs_hidden": false
        },
        "outputId": "3c9ad1de-a398-47f5-cb35-e702fb3aced6"
      },
      "outputs": [
        {
          "ename": "FileNotFoundError",
          "evalue": "[Errno 2] No such file or directory: 'data/a1/test_data_task2.pkl'",
          "output_type": "error",
          "traceback": [
            "\u001b[0;31m---------------------------------------------------------------------------\u001b[0m",
            "\u001b[0;31mFileNotFoundError\u001b[0m                         Traceback (most recent call last)",
            "\u001b[0;32m<ipython-input-18-f9e4e94482f8>\u001b[0m in \u001b[0;36m<cell line: 4>\u001b[0;34m()\u001b[0m\n\u001b[1;32m      2\u001b[0m \u001b[0;31m# the structure of the test data of task 2 is exactly the same as for task 1,\u001b[0m\u001b[0;34m\u001b[0m\u001b[0;34m\u001b[0m\u001b[0m\n\u001b[1;32m      3\u001b[0m \u001b[0;31m# but now the images are rotated by an unknown angle between 0 and 360 degrees.\u001b[0m\u001b[0;34m\u001b[0m\u001b[0;34m\u001b[0m\u001b[0m\n\u001b[0;32m----> 4\u001b[0;31m \u001b[0mdata_dict_test_task2\u001b[0m \u001b[0;34m=\u001b[0m \u001b[0mload_data\u001b[0m\u001b[0;34m(\u001b[0m\u001b[0;34m'data/a1/test_data_task2.pkl'\u001b[0m\u001b[0;34m)\u001b[0m\u001b[0;34m\u001b[0m\u001b[0;34m\u001b[0m\u001b[0m\n\u001b[0m",
            "\u001b[0;32m<ipython-input-2-f5eea1b8081c>\u001b[0m in \u001b[0;36mload_data\u001b[0;34m(file)\u001b[0m\n\u001b[1;32m      8\u001b[0m      \u001b[0mPlease\u001b[0m \u001b[0msee\u001b[0m \u001b[0mthe\u001b[0m \u001b[0mcells\u001b[0m \u001b[0;32mwith\u001b[0m \u001b[0mexample\u001b[0m \u001b[0mcode\u001b[0m \u001b[0mbelow\u001b[0m \u001b[0;32mfor\u001b[0m \u001b[0mexplanations\u001b[0m \u001b[0;32mand\u001b[0m \u001b[0mexamples\u001b[0m \u001b[0mof\u001b[0m \u001b[0mthe\u001b[0m \u001b[0mdata\u001b[0m \u001b[0mstructure\u001b[0m \u001b[0mper\u001b[0m \u001b[0mdata\u001b[0m \u001b[0mset\u001b[0m\u001b[0;34m.\u001b[0m\u001b[0;34m\u001b[0m\u001b[0;34m\u001b[0m\u001b[0m\n\u001b[1;32m      9\u001b[0m     \"\"\"\n\u001b[0;32m---> 10\u001b[0;31m     \u001b[0;32mwith\u001b[0m \u001b[0mopen\u001b[0m\u001b[0;34m(\u001b[0m\u001b[0mfile\u001b[0m\u001b[0;34m,\u001b[0m \u001b[0;34m'rb'\u001b[0m\u001b[0;34m)\u001b[0m \u001b[0;32mas\u001b[0m \u001b[0mf\u001b[0m\u001b[0;34m:\u001b[0m\u001b[0;34m\u001b[0m\u001b[0;34m\u001b[0m\u001b[0m\n\u001b[0m\u001b[1;32m     11\u001b[0m         \u001b[0mdata_dict\u001b[0m \u001b[0;34m=\u001b[0m \u001b[0mpickle\u001b[0m\u001b[0;34m.\u001b[0m\u001b[0mload\u001b[0m\u001b[0;34m(\u001b[0m\u001b[0mf\u001b[0m\u001b[0;34m)\u001b[0m\u001b[0;34m\u001b[0m\u001b[0;34m\u001b[0m\u001b[0m\n\u001b[1;32m     12\u001b[0m     \u001b[0;32mreturn\u001b[0m \u001b[0mdata_dict\u001b[0m\u001b[0;34m\u001b[0m\u001b[0;34m\u001b[0m\u001b[0m\n",
            "\u001b[0;31mFileNotFoundError\u001b[0m: [Errno 2] No such file or directory: 'data/a1/test_data_task2.pkl'"
          ]
        }
      ],
      "source": [
        "# load the test data for task 2:\n",
        "# the structure of the test data of task 2 is exactly the same as for task 1,\n",
        "# but now the images are rotated by an unknown angle between 0 and 360 degrees.\n",
        "data_dict_test_task2 = load_data('data/a1/test_data_task2.pkl')"
      ]
    },
    {
      "cell_type": "code",
      "execution_count": null,
      "id": "ab7aa34500088f66",
      "metadata": {
        "id": "ab7aa34500088f66",
        "jupyter": {
          "outputs_hidden": false
        }
      },
      "outputs": [],
      "source": [
        "# solution and evaluation of task 2:\n",
        "import torchvision.transforms as transforms\n",
        "rotation_transform = transforms.RandomRotation(degrees=(-10, 10))"
      ]
    },
    {
      "cell_type": "code",
      "execution_count": null,
      "id": "71298802fa5d6fb8",
      "metadata": {
        "id": "71298802fa5d6fb8",
        "jupyter": {
          "outputs_hidden": false
        }
      },
      "outputs": [],
      "source": [
        "train_data_task2 = train_data.copy()\n",
        "\n",
        "def transform_train_data(data_dict):\n",
        "  for alphabet, characters in data_dict.items():\n",
        "    for char, images in characters.items():\n",
        "      augmented_images = []\n",
        "      for image in images:\n",
        "        augmented_image = rotation_transform(image)\n",
        "        augmented_images.append(augmented_image)\n",
        "        data_dict[alphabet][char] = augmented_images\n",
        "  return data_dict"
      ]
    },
    {
      "cell_type": "code",
      "execution_count": null,
      "id": "4e6e3e82ce917c0f",
      "metadata": {
        "id": "4e6e3e82ce917c0f",
        "jupyter": {
          "outputs_hidden": false
        }
      },
      "outputs": [],
      "source": [
        "transformed_train_data_task2 = transform_train_data(train_data_task2)"
      ]
    },
    {
      "cell_type": "code",
      "execution_count": null,
      "id": "e701b2a68bd4d32a",
      "metadata": {
        "colab": {
          "base_uri": "https://localhost:8080/",
          "height": 709
        },
        "id": "e701b2a68bd4d32a",
        "jupyter": {
          "outputs_hidden": false
        },
        "outputId": "55766c2a-bea4-43a2-b64d-3f45609b5b53"
      },
      "outputs": [
        {
          "name": "stdout",
          "output_type": "stream",
          "text": [
            "torch.Size([1, 105, 105])\n",
            "torch.Size([1, 105, 105])\n",
            "torch.Size([1, 105, 105])\n",
            "torch.Size([1, 105, 105])\n",
            "torch.Size([1, 105, 105])\n",
            "torch.Size([1, 105, 105])\n",
            "torch.Size([1, 105, 105])\n",
            "torch.Size([1, 105, 105])\n",
            "torch.Size([1, 105, 105])\n",
            "torch.Size([1, 105, 105])\n"
          ]
        },
        {
          "data": {
            "text/plain": [
              "<Figure size 640x480 with 0 Axes>"
            ]
          },
          "metadata": {},
          "output_type": "display_data"
        },
        {
          "data": {
            "image/png": "[encoded data removed]",
            "text/plain": [
              "<Figure size 1500x600 with 10 Axes>"
            ]
          },
          "metadata": {},
          "output_type": "display_data"
        }
      ],
      "source": [
        "plt.figure()\n",
        "plot_example_data(transformed_train_data_task2)\n",
        "# plt.savefig('example_data.png', dpi=600)\n",
        "plt.show()"
      ]
    },
    {
      "cell_type": "code",
      "execution_count": null,
      "id": "nDpNkuaWgXib",
      "metadata": {
        "colab": {
          "base_uri": "https://localhost:8080/"
        },
        "id": "nDpNkuaWgXib",
        "outputId": "0afcc51c-e411-40db-9863-8760f0db303c"
      },
      "outputs": [
        {
          "name": "stderr",
          "output_type": "stream",
          "text": [
            "  5%|▌         | 1/20 [00:17<05:40, 17.91s/it]"
          ]
        },
        {
          "name": "stdout",
          "output_type": "stream",
          "text": [
            "EPOCH: 01/20 LOSS: 0.6774 VAL-LOSS: 0.4565\n"
          ]
        },
        {
          "name": "stderr",
          "output_type": "stream",
          "text": [
            "\r 10%|█         | 2/20 [00:34<05:07, 17.06s/it]"
          ]
        },
        {
          "name": "stdout",
          "output_type": "stream",
          "text": [
            "EPOCH: 02/20 LOSS: 0.4343 VAL-LOSS: 0.4445\n"
          ]
        },
        {
          "name": "stderr",
          "output_type": "stream",
          "text": [
            "\r 15%|█▌        | 3/20 [00:50<04:45, 16.79s/it]"
          ]
        },
        {
          "name": "stdout",
          "output_type": "stream",
          "text": [
            "EPOCH: 03/20 LOSS: 0.3907 VAL-LOSS: 0.3391\n"
          ]
        },
        {
          "name": "stderr",
          "output_type": "stream",
          "text": [
            "\r 20%|██        | 4/20 [01:07<04:27, 16.73s/it]"
          ]
        },
        {
          "name": "stdout",
          "output_type": "stream",
          "text": [
            "EPOCH: 04/20 LOSS: 0.3280 VAL-LOSS: 0.3251\n"
          ]
        },
        {
          "name": "stderr",
          "output_type": "stream",
          "text": [
            "\r 25%|██▌       | 5/20 [01:24<04:15, 17.01s/it]"
          ]
        },
        {
          "name": "stdout",
          "output_type": "stream",
          "text": [
            "EPOCH: 05/20 LOSS: 0.3099 VAL-LOSS: 0.2933\n"
          ]
        },
        {
          "name": "stderr",
          "output_type": "stream",
          "text": [
            "\r 30%|███       | 6/20 [01:41<03:56, 16.91s/it]"
          ]
        },
        {
          "name": "stdout",
          "output_type": "stream",
          "text": [
            "EPOCH: 06/20 LOSS: 0.2762 VAL-LOSS: 0.3116\n"
          ]
        },
        {
          "name": "stderr",
          "output_type": "stream",
          "text": [
            "\r 35%|███▌      | 7/20 [01:59<03:42, 17.13s/it]"
          ]
        },
        {
          "name": "stdout",
          "output_type": "stream",
          "text": [
            "EPOCH: 07/20 LOSS: 0.2784 VAL-LOSS: 0.2506\n"
          ]
        },
        {
          "name": "stderr",
          "output_type": "stream",
          "text": [
            "\r 40%|████      | 8/20 [02:15<03:23, 16.97s/it]"
          ]
        },
        {
          "name": "stdout",
          "output_type": "stream",
          "text": [
            "EPOCH: 08/20 LOSS: 0.2836 VAL-LOSS: 0.2565\n"
          ]
        },
        {
          "name": "stderr",
          "output_type": "stream",
          "text": [
            "\r 45%|████▌     | 9/20 [02:32<03:06, 16.97s/it]"
          ]
        },
        {
          "name": "stdout",
          "output_type": "stream",
          "text": [
            "EPOCH: 09/20 LOSS: 0.2535 VAL-LOSS: 0.2658\n"
          ]
        },
        {
          "name": "stderr",
          "output_type": "stream",
          "text": [
            "\r 50%|█████     | 10/20 [02:49<02:49, 16.97s/it]"
          ]
        },
        {
          "name": "stdout",
          "output_type": "stream",
          "text": [
            "EPOCH: 10/20 LOSS: 0.2377 VAL-LOSS: 0.2499\n"
          ]
        },
        {
          "name": "stderr",
          "output_type": "stream",
          "text": [
            "\r 55%|█████▌    | 11/20 [03:06<02:30, 16.75s/it]"
          ]
        },
        {
          "name": "stdout",
          "output_type": "stream",
          "text": [
            "EPOCH: 11/20 LOSS: 0.2108 VAL-LOSS: 0.1981\n"
          ]
        },
        {
          "name": "stderr",
          "output_type": "stream",
          "text": [
            "\r 60%|██████    | 12/20 [03:22<02:12, 16.59s/it]"
          ]
        },
        {
          "name": "stdout",
          "output_type": "stream",
          "text": [
            "EPOCH: 12/20 LOSS: 0.2153 VAL-LOSS: 0.1805\n"
          ]
        },
        {
          "name": "stderr",
          "output_type": "stream",
          "text": [
            "\r 65%|██████▌   | 13/20 [03:39<01:56, 16.62s/it]"
          ]
        },
        {
          "name": "stdout",
          "output_type": "stream",
          "text": [
            "EPOCH: 13/20 LOSS: 0.1825 VAL-LOSS: 0.1786\n"
          ]
        },
        {
          "name": "stderr",
          "output_type": "stream",
          "text": [
            "\r 70%|███████   | 14/20 [03:56<01:41, 16.86s/it]"
          ]
        },
        {
          "name": "stdout",
          "output_type": "stream",
          "text": [
            "EPOCH: 14/20 LOSS: 0.1687 VAL-LOSS: 0.1787\n"
          ]
        },
        {
          "name": "stderr",
          "output_type": "stream",
          "text": [
            "\r 75%|███████▌  | 15/20 [04:12<01:23, 16.71s/it]"
          ]
        },
        {
          "name": "stdout",
          "output_type": "stream",
          "text": [
            "EPOCH: 15/20 LOSS: 0.1702 VAL-LOSS: 0.1851\n"
          ]
        },
        {
          "name": "stderr",
          "output_type": "stream",
          "text": [
            "\r 80%|████████  | 16/20 [04:28<01:06, 16.54s/it]"
          ]
        },
        {
          "name": "stdout",
          "output_type": "stream",
          "text": [
            "EPOCH: 16/20 LOSS: 0.1635 VAL-LOSS: 0.1906\n"
          ]
        },
        {
          "name": "stderr",
          "output_type": "stream",
          "text": [
            "\r 85%|████████▌ | 17/20 [04:45<00:49, 16.45s/it]"
          ]
        },
        {
          "name": "stdout",
          "output_type": "stream",
          "text": [
            "EPOCH: 17/20 LOSS: 0.1595 VAL-LOSS: 0.1639\n"
          ]
        },
        {
          "name": "stderr",
          "output_type": "stream",
          "text": [
            "\r 90%|█████████ | 18/20 [05:01<00:32, 16.43s/it]"
          ]
        },
        {
          "name": "stdout",
          "output_type": "stream",
          "text": [
            "EPOCH: 18/20 LOSS: 0.1486 VAL-LOSS: 0.1641\n"
          ]
        },
        {
          "name": "stderr",
          "output_type": "stream",
          "text": [
            "\r 95%|█████████▌| 19/20 [05:18<00:16, 16.72s/it]"
          ]
        },
        {
          "name": "stdout",
          "output_type": "stream",
          "text": [
            "EPOCH: 19/20 LOSS: 0.1499 VAL-LOSS: 0.1736\n"
          ]
        },
        {
          "name": "stderr",
          "output_type": "stream",
          "text": [
            "100%|██████████| 20/20 [05:35<00:00, 16.77s/it]"
          ]
        },
        {
          "name": "stdout",
          "output_type": "stream",
          "text": [
            "EPOCH: 20/20 LOSS: 0.1496 VAL-LOSS: 0.1400\n"
          ]
        },
        {
          "name": "stderr",
          "output_type": "stream",
          "text": [
            "\n"
          ]
        }
      ],
      "source": [
        "#We follow the same steps as in our preprocessing of the first model to train \"model2\"\n",
        "\n",
        "df_tobe = []\n",
        "for alphabet in train_data_task2.keys():\n",
        "    for key in train_data_task2[alphabet].keys():\n",
        "        for image in train_data_task2[alphabet][key]:\n",
        "            df_tobe.append((alphabet + '_' + key, image))\n",
        "train_data_df_task2 = pd.DataFrame(data=df_tobe)\n",
        "\n",
        "# random seed\n",
        "random_seed = 42\n",
        "\n",
        "from sklearn.model_selection import train_test_split\n",
        "# split dataset into training set and validation set\n",
        "train_size = 0.8  # 80:20 split\n",
        "\n",
        "inputs_train, inputs_valid = train_test_split(\n",
        "    train_data_df[1],\n",
        "    random_state=random_seed,\n",
        "    train_size=train_size,\n",
        "    shuffle=True)\n",
        "\n",
        "targets_train, targets_valid = train_test_split(\n",
        "    train_data_df[0],\n",
        "    random_state=random_seed,\n",
        "    train_size=train_size,\n",
        "    shuffle=True)\n",
        "\n",
        "label_to_idx_train = {k: v for v, k in enumerate(train_data_df[0].unique())}\n",
        "idx_to_label_train = {v: k for v, k in enumerate(train_data_df[0].unique())}\n",
        "\n",
        "inputs_train = inputs_train.values\n",
        "inputs_valid = inputs_valid.values\n",
        "\n",
        "targets_train = np.array([label_to_idx_train[label] for label in targets_train])\n",
        "targets_valid = np.array([label_to_idx_train[label] for label in targets_valid])\n",
        "\n",
        "image_size_task2 = (64,64)\n",
        "\n",
        "DATA_TRANSFORM_TASK2 = transforms.Compose([\n",
        "    transforms.Resize(image_size_task2),\n",
        "    transforms.RandomRotation(180)\n",
        "    # transforms.ToTensor(),\n",
        "    ])\n",
        "\n",
        "train_dataset_task2 = CustomImageDataset(inputs=inputs_train.copy(), targets=targets_train.copy(), transform=DATA_TRANSFORM_TASK2)\n",
        "val_dataset_task2 = CustomImageDataset(inputs=inputs_valid.copy(), targets=targets_valid.copy(), transform=DATA_TRANSFORM_TASK2)\n",
        "\n",
        "train_batch_sampler_task2 = BalancedBatchSampler(train_dataset_task2.targets, n_classes=20, n_samples=5)\n",
        "test_batch_sampler_task2 = BalancedBatchSampler(val_dataset_task2.targets, n_classes=20, n_samples=5)\n",
        "\n",
        "triplets_train_loader_task2 = torch.utils.data.DataLoader(train_dataset_task2, batch_sampler=train_batch_sampler_task2)\n",
        "triplets_val_loader_task2 = torch.utils.data.DataLoader(val_dataset_task2, batch_sampler=test_batch_sampler_task2)\n",
        "\n",
        "# device\n",
        "if torch.cuda.is_available():\n",
        "    device = torch.device('cuda')\n",
        "else:\n",
        "    device=torch.device('cpu')\n",
        "\n",
        "# model\n",
        "embedding_net = EmbeddingNet_Task2()\n",
        "model2 = embedding_net.to(device)\n",
        "\n",
        "\n",
        "# margin value\n",
        "margin=1\n",
        "\n",
        "# criterion\n",
        "criterion = TripletLoss(margin,  RandomTripletSelector())\n",
        "\n",
        "# optimizer\n",
        "optimizer = torch.optim.SGD(model2.parameters(), lr=0.001, momentum=0.9)\n",
        "\n",
        "# trainer\n",
        "trainer = Trainer(model=model2,\n",
        "                  device=device,\n",
        "                  criterion=criterion,\n",
        "                  optimizer=optimizer,\n",
        "                  training_DataLoader=triplets_train_loader_task2,\n",
        "                  validation_DataLoader=triplets_val_loader_task2,\n",
        "                  epochs=20)\n",
        "\n",
        "# start training\n",
        "trainer.run_trainer()"
      ]
    },
    {
      "cell_type": "code",
      "execution_count": null,
      "id": "a8ed6791",
      "metadata": {
        "id": "a8ed6791"
      },
      "outputs": [],
      "source": [
        "torch.save(model2.state_dict(), 'a1_model2.pt')"
      ]
    },
    {
      "cell_type": "code",
      "execution_count": null,
      "id": "3da83d9f",
      "metadata": {
        "colab": {
          "base_uri": "https://localhost:8080/"
        },
        "id": "3da83d9f",
        "outputId": "92ca6498-4347-4427-f67d-c16f40d8bafb"
      },
      "outputs": [
        {
          "data": {
            "text/plain": [
              "<All keys matched successfully>"
            ]
          },
          "execution_count": 26,
          "metadata": {},
          "output_type": "execute_result"
        }
      ],
      "source": [
        "model2 = EmbeddingNet_Task2()\n",
        "model2.load_state_dict(torch.load('a1_model2.pt'))\n",
        "#model1.eval()"
      ]
    },
    {
      "cell_type": "code",
      "execution_count": null,
      "id": "g23914Uyi3lA",
      "metadata": {
        "colab": {
          "base_uri": "https://localhost:8080/"
        },
        "id": "g23914Uyi3lA",
        "outputId": "ac2cfc8b-98d8-46ed-9460-aec664d264dd"
      },
      "outputs": [
        {
          "name": "stderr",
          "output_type": "stream",
          "text": [
            "100%|██████████| 20/20 [00:32<00:00,  1.61s/it]\n",
            "100%|██████████| 20/20 [00:36<00:00,  1.83s/it]"
          ]
        },
        {
          "name": "stdout",
          "output_type": "stream",
          "text": [
            "total accuracy (using model 1): 0.4713\n",
            "total accuracy (using model 2): 0.7779\n"
          ]
        },
        {
          "name": "stderr",
          "output_type": "stream",
          "text": [
            "\n"
          ]
        }
      ],
      "source": [
        "#Evaluation\n",
        "\n",
        "#At the moment the accuracy of the second model is ~25% (even lower than trained on unrotated (train) data, tested on rotated (test 2) data)\n",
        "\n",
        "accuracy = get_accuracy(model1, data_dict_test_task2, k=8, transform=DATA_TRANSFORM_TASK1)\n",
        "accuracy2 = get_accuracy(model2, data_dict_test_task2, k=8, transform=DATA_TRANSFORM_TASK2)\n",
        "print(\"total accuracy (using model 1):\", round(accuracy, 4))\n",
        "print(\"total accuracy (using model 2):\", round(accuracy2, 4))"
      ]
    },
    {
      "cell_type": "markdown",
      "id": "bfdbe34799376c36",
      "metadata": {
        "collapsed": false,
        "id": "bfdbe34799376c36",
        "jupyter": {
          "outputs_hidden": false
        }
      },
      "source": [
        "# Task 3: Domain knowledge injection"
      ]
    },
    {
      "cell_type": "code",
      "execution_count": null,
      "id": "aa248dbece85da5c",
      "metadata": {
        "colab": {
          "base_uri": "https://localhost:8080/"
        },
        "id": "aa248dbece85da5c",
        "jupyter": {
          "outputs_hidden": false
        },
        "outputId": "7fdb5cf5-5451-4938-b35d-c5d5cc93b339"
      },
      "outputs": [
        {
          "name": "stdout",
          "output_type": "stream",
          "text": [
            "dict_keys(['unseen_images_labels', 'annotated_images_labels', 'unseen_images', 'annotated_images', 'unseen_images_preceding_types', 'character_to_type_mapping', 'type_following_probs'])\n"
          ]
        }
      ],
      "source": [
        "# load the test data for task 3:\n",
        "# the structure of the data of task 3 is exactly the same as for task 1, but now our the loaded dictionary contains some additional keys.\n",
        "# These additional keys will be explained in the cells below:\n",
        "\n",
        "# data_dict_test_task3 = load_data('data/a1/test_data_task3.pkl')\n",
        "data_dict_test_task3 = load_data('drive/MyDrive/GoogleColab/2AMM10/data_A1_2AMM10_2023_2024/test_data_task3.pkl')\n",
        "print(data_dict_test_task3.keys())"
      ]
    },
    {
      "cell_type": "code",
      "execution_count": null,
      "id": "7fb6a6237a187493",
      "metadata": {
        "id": "7fb6a6237a187493",
        "jupyter": {
          "outputs_hidden": false
        }
      },
      "outputs": [],
      "source": [
        "# The keys 'annotated_images', 'annotated_images_labels', 'unseen_images', 'unseen_images_labels' are the same as for task 1, and the structure of the data is exactly the same.\n",
        "\n",
        "# The key 'unseen_images_preceding_types' maps to the type of the preceding character in the sequence where the unseen image was observed, for each alphabet.\n",
        "# The key 'character_to_type_mapping' maps to the mapping of each character to its type, for each alphabet.\n",
        "# The key 'type_following_probs' maps to the probabilities of each character type being followed by another character type, for each alphabet."
      ]
    },
    {
      "cell_type": "code",
      "execution_count": null,
      "id": "ef9bcef5572f0a78",
      "metadata": {
        "colab": {
          "base_uri": "https://localhost:8080/"
        },
        "id": "ef9bcef5572f0a78",
        "jupyter": {
          "outputs_hidden": false
        },
        "outputId": "843aa8ab-44e4-462d-8f98-0d7a9ece42c8"
      },
      "outputs": [
        {
          "name": "stdout",
          "output_type": "stream",
          "text": [
            "Alphabet: Glagolitic\n",
            "Some character types that preceded unseen images from the Glagolitic alphabet: ['I' 'II' 'II' 'I' 'I']\n",
            "There are 855 preceding character types in the Glagolitic alphabet, and 855 unseen images.\n",
            "Type of character18 from the Glagolitic alphabet: II\n",
            "Probability of a character of type I following a character of type I in the Glagolitic alphabet: 0.057692307692307696\n"
          ]
        }
      ],
      "source": [
        "# examples:\n",
        "\n",
        "alphabet = np.random.choice(list(data_dict_test_task3['unseen_images_preceding_types'].keys()))\n",
        "print(f'Alphabet: {alphabet}')\n",
        "\n",
        "\n",
        "preceding_character_types_alphabet = data_dict_test_task3[\"unseen_images_preceding_types\"][alphabet]  # a list\n",
        "print(f'Some character types that preceded unseen images from the {alphabet} alphabet: {np.random.choice(preceding_character_types_alphabet, size=5)}')\n",
        "print(f'There are {len(preceding_character_types_alphabet)} preceding character types in the {alphabet} alphabet, and {len(data_dict_test_task3[\"unseen_images\"][alphabet])} unseen images.')\n",
        "\n",
        "\n",
        "character_to_type_mapping_alphabet = data_dict_test_task3[\"character_to_type_mapping\"][alphabet]\n",
        "# this is a dict, with as keys the characters and as values the types\n",
        "random_character = np.random.choice(list(character_to_type_mapping_alphabet.keys()))\n",
        "print(f'Type of {random_character} from the {alphabet} alphabet: {character_to_type_mapping_alphabet[random_character]}')\n",
        "\n",
        "\n",
        "type_following_probs_alphabet = data_dict_test_task3[\"type_following_probs\"][alphabet]  # a dict of dicts\n",
        "preceding_type = np.random.choice(list(type_following_probs_alphabet.keys()))\n",
        "following_type = np.random.choice(list(type_following_probs_alphabet[preceding_type].keys()))\n",
        "print(f'Probability of a character of type {following_type} following a character of type {preceding_type} in the {alphabet} alphabet: {type_following_probs_alphabet[preceding_type][following_type]}')\n"
      ]
    },
    {
      "cell_type": "code",
      "execution_count": null,
      "id": "cbf3e06e",
      "metadata": {
        "colab": {
          "base_uri": "https://localhost:8080/"
        },
        "collapsed": true,
        "id": "cbf3e06e",
        "outputId": "b5d8c4ff-365a-4b50-9ce0-532419bf33ad"
      },
      "outputs": [
        {
          "data": {
            "text/plain": [
              "['II',\n",
              " 'II',\n",
              " 'II',\n",
              " 'II',\n",
              " 'II',\n",
              " 'II',\n",
              " 'II',\n",
              " 'II',\n",
              " 'I',\n",
              " 'II',\n",
              " 'II',\n",
              " 'II',\n",
              " 'II',\n",
              " 'II',\n",
              " 'II',\n",
              " 'II',\n",
              " 'II',\n",
              " 'II',\n",
              " 'II',\n",
              " 'II',\n",
              " 'II',\n",
              " 'II',\n",
              " 'II',\n",
              " 'II',\n",
              " 'II',\n",
              " 'II',\n",
              " 'II',\n",
              " 'II',\n",
              " 'II',\n",
              " 'II',\n",
              " 'II',\n",
              " 'I',\n",
              " 'II',\n",
              " 'II',\n",
              " 'II',\n",
              " 'II',\n",
              " 'II',\n",
              " 'II',\n",
              " 'I',\n",
              " 'II',\n",
              " 'II',\n",
              " 'I',\n",
              " 'II',\n",
              " 'I',\n",
              " 'I',\n",
              " 'II',\n",
              " 'I',\n",
              " 'I',\n",
              " 'II',\n",
              " 'I',\n",
              " 'II',\n",
              " 'I',\n",
              " 'I',\n",
              " 'I',\n",
              " 'I',\n",
              " 'I',\n",
              " 'I',\n",
              " 'II',\n",
              " 'II',\n",
              " 'II',\n",
              " 'II',\n",
              " 'II',\n",
              " 'II',\n",
              " 'II',\n",
              " 'II',\n",
              " 'II',\n",
              " 'II',\n",
              " 'II',\n",
              " 'II',\n",
              " 'II',\n",
              " 'II',\n",
              " 'II',\n",
              " 'II',\n",
              " 'II',\n",
              " 'II',\n",
              " 'II',\n",
              " 'I',\n",
              " 'I',\n",
              " 'II',\n",
              " 'I',\n",
              " 'II',\n",
              " 'II',\n",
              " 'I',\n",
              " 'I',\n",
              " 'I',\n",
              " 'I',\n",
              " 'I',\n",
              " 'I',\n",
              " 'II',\n",
              " 'I',\n",
              " 'I',\n",
              " 'I',\n",
              " 'II',\n",
              " 'I',\n",
              " 'I',\n",
              " 'II',\n",
              " 'I',\n",
              " 'I',\n",
              " 'I',\n",
              " 'II',\n",
              " 'II',\n",
              " 'I',\n",
              " 'I',\n",
              " 'II',\n",
              " 'II',\n",
              " 'II',\n",
              " 'I',\n",
              " 'II',\n",
              " 'I',\n",
              " 'I',\n",
              " 'II',\n",
              " 'I',\n",
              " 'II',\n",
              " 'II',\n",
              " 'II',\n",
              " 'II',\n",
              " 'II',\n",
              " 'II',\n",
              " 'II',\n",
              " 'II',\n",
              " 'II',\n",
              " 'II',\n",
              " 'II',\n",
              " 'II',\n",
              " 'II',\n",
              " 'II',\n",
              " 'II',\n",
              " 'II',\n",
              " 'II',\n",
              " 'II',\n",
              " 'II',\n",
              " 'II',\n",
              " 'II',\n",
              " 'II',\n",
              " 'II',\n",
              " 'II',\n",
              " 'II',\n",
              " 'II',\n",
              " 'II',\n",
              " 'II',\n",
              " 'II',\n",
              " 'II',\n",
              " 'II',\n",
              " 'II',\n",
              " 'II',\n",
              " 'II',\n",
              " 'II',\n",
              " 'II',\n",
              " 'II',\n",
              " 'II',\n",
              " 'II',\n",
              " 'II',\n",
              " 'II',\n",
              " 'II',\n",
              " 'I',\n",
              " 'II',\n",
              " 'II',\n",
              " 'II',\n",
              " 'II',\n",
              " 'II',\n",
              " 'II',\n",
              " 'II',\n",
              " 'II',\n",
              " 'II',\n",
              " 'I',\n",
              " 'II',\n",
              " 'II',\n",
              " 'II',\n",
              " 'I',\n",
              " 'II',\n",
              " 'II',\n",
              " 'I',\n",
              " 'I',\n",
              " 'I',\n",
              " 'I',\n",
              " 'I',\n",
              " 'I',\n",
              " 'I',\n",
              " 'II',\n",
              " 'I',\n",
              " 'I',\n",
              " 'I',\n",
              " 'I',\n",
              " 'I',\n",
              " 'I',\n",
              " 'I',\n",
              " 'II',\n",
              " 'I',\n",
              " 'II',\n",
              " 'I',\n",
              " 'I',\n",
              " 'I',\n",
              " 'I',\n",
              " 'I',\n",
              " 'I',\n",
              " 'I',\n",
              " 'I',\n",
              " 'I',\n",
              " 'I',\n",
              " 'I',\n",
              " 'II',\n",
              " 'I',\n",
              " 'II',\n",
              " 'I',\n",
              " 'I',\n",
              " 'I',\n",
              " 'I',\n",
              " 'I',\n",
              " 'II',\n",
              " 'I',\n",
              " 'II',\n",
              " 'II',\n",
              " 'II',\n",
              " 'II',\n",
              " 'II',\n",
              " 'II',\n",
              " 'II',\n",
              " 'II',\n",
              " 'II',\n",
              " 'II',\n",
              " 'II',\n",
              " 'II',\n",
              " 'II',\n",
              " 'II',\n",
              " 'II',\n",
              " 'II',\n",
              " 'II',\n",
              " 'II',\n",
              " 'I',\n",
              " 'II',\n",
              " 'II',\n",
              " 'I',\n",
              " 'I',\n",
              " 'I',\n",
              " 'I',\n",
              " 'II',\n",
              " 'I',\n",
              " 'II',\n",
              " 'II',\n",
              " 'I',\n",
              " 'I',\n",
              " 'I',\n",
              " 'I',\n",
              " 'I',\n",
              " 'I',\n",
              " 'I',\n",
              " 'I',\n",
              " 'II',\n",
              " 'II',\n",
              " 'II',\n",
              " 'II',\n",
              " 'II',\n",
              " 'II',\n",
              " 'II',\n",
              " 'II',\n",
              " 'II',\n",
              " 'II',\n",
              " 'II',\n",
              " 'II',\n",
              " 'II',\n",
              " 'II',\n",
              " 'II',\n",
              " 'II',\n",
              " 'II',\n",
              " 'II',\n",
              " 'II',\n",
              " 'I',\n",
              " 'I',\n",
              " 'I',\n",
              " 'I',\n",
              " 'I',\n",
              " 'I',\n",
              " 'I',\n",
              " 'I',\n",
              " 'I',\n",
              " 'I',\n",
              " 'I',\n",
              " 'I',\n",
              " 'I',\n",
              " 'II',\n",
              " 'I',\n",
              " 'I',\n",
              " 'I',\n",
              " 'I',\n",
              " 'I',\n",
              " 'I',\n",
              " 'I',\n",
              " 'II',\n",
              " 'I',\n",
              " 'I',\n",
              " 'II',\n",
              " 'I',\n",
              " 'II',\n",
              " 'I',\n",
              " 'I',\n",
              " 'I',\n",
              " 'I',\n",
              " 'I',\n",
              " 'I',\n",
              " 'I',\n",
              " 'I',\n",
              " 'I',\n",
              " 'I',\n",
              " 'I',\n",
              " 'I',\n",
              " 'I',\n",
              " 'II',\n",
              " 'I',\n",
              " 'I',\n",
              " 'I',\n",
              " 'II',\n",
              " 'I',\n",
              " 'II',\n",
              " 'I',\n",
              " 'I',\n",
              " 'II',\n",
              " 'II',\n",
              " 'I',\n",
              " 'II',\n",
              " 'II',\n",
              " 'I',\n",
              " 'I',\n",
              " 'I',\n",
              " 'II',\n",
              " 'I',\n",
              " 'II',\n",
              " 'I',\n",
              " 'I',\n",
              " 'I',\n",
              " 'I',\n",
              " 'I',\n",
              " 'I',\n",
              " 'II',\n",
              " 'I',\n",
              " 'II',\n",
              " 'II',\n",
              " 'I',\n",
              " 'I',\n",
              " 'I',\n",
              " 'I',\n",
              " 'I',\n",
              " 'I',\n",
              " 'II',\n",
              " 'I',\n",
              " 'II',\n",
              " 'II',\n",
              " 'II',\n",
              " 'II',\n",
              " 'II',\n",
              " 'I',\n",
              " 'II',\n",
              " 'II',\n",
              " 'II',\n",
              " 'I',\n",
              " 'II',\n",
              " 'II',\n",
              " 'II',\n",
              " 'II',\n",
              " 'II',\n",
              " 'II',\n",
              " 'II',\n",
              " 'II',\n",
              " 'II',\n",
              " 'II',\n",
              " 'II',\n",
              " 'II',\n",
              " 'II',\n",
              " 'II',\n",
              " 'II',\n",
              " 'II',\n",
              " 'II',\n",
              " 'II',\n",
              " 'II',\n",
              " 'II',\n",
              " 'II',\n",
              " 'II',\n",
              " 'II',\n",
              " 'II',\n",
              " 'II',\n",
              " 'II',\n",
              " 'II',\n",
              " 'II',\n",
              " 'I',\n",
              " 'I',\n",
              " 'I',\n",
              " 'I',\n",
              " 'I',\n",
              " 'II',\n",
              " 'I',\n",
              " 'I',\n",
              " 'I',\n",
              " 'I',\n",
              " 'II',\n",
              " 'I',\n",
              " 'I',\n",
              " 'I',\n",
              " 'I',\n",
              " 'II',\n",
              " 'I',\n",
              " 'II',\n",
              " 'I',\n",
              " 'I',\n",
              " 'I',\n",
              " 'I',\n",
              " 'I',\n",
              " 'I',\n",
              " 'II',\n",
              " 'I',\n",
              " 'I',\n",
              " 'I',\n",
              " 'I',\n",
              " 'I',\n",
              " 'I',\n",
              " 'I',\n",
              " 'I',\n",
              " 'II',\n",
              " 'I',\n",
              " 'I',\n",
              " 'II',\n",
              " 'II',\n",
              " 'II',\n",
              " 'II',\n",
              " 'II',\n",
              " 'II',\n",
              " 'II',\n",
              " 'II',\n",
              " 'II',\n",
              " 'II',\n",
              " 'II',\n",
              " 'II',\n",
              " 'II',\n",
              " 'II',\n",
              " 'II',\n",
              " 'II',\n",
              " 'II',\n",
              " 'II',\n",
              " 'II',\n",
              " 'I',\n",
              " 'I',\n",
              " 'I',\n",
              " 'I',\n",
              " 'I',\n",
              " 'II',\n",
              " 'I',\n",
              " 'II',\n",
              " 'I',\n",
              " 'II',\n",
              " 'II',\n",
              " 'I',\n",
              " 'I',\n",
              " 'II',\n",
              " 'I',\n",
              " 'II',\n",
              " 'II',\n",
              " 'I',\n",
              " 'II',\n",
              " 'II',\n",
              " 'II',\n",
              " 'II',\n",
              " 'I',\n",
              " 'II',\n",
              " 'I',\n",
              " 'I',\n",
              " 'I',\n",
              " 'I',\n",
              " 'I',\n",
              " 'II',\n",
              " 'I',\n",
              " 'I',\n",
              " 'II',\n",
              " 'I',\n",
              " 'II',\n",
              " 'II',\n",
              " 'II',\n",
              " 'II',\n",
              " 'I',\n",
              " 'II',\n",
              " 'I',\n",
              " 'II',\n",
              " 'II',\n",
              " 'II',\n",
              " 'I',\n",
              " 'II',\n",
              " 'II',\n",
              " 'I',\n",
              " 'I',\n",
              " 'I',\n",
              " 'II',\n",
              " 'II',\n",
              " 'I',\n",
              " 'I',\n",
              " 'I',\n",
              " 'I',\n",
              " 'II',\n",
              " 'II',\n",
              " 'II',\n",
              " 'II',\n",
              " 'II',\n",
              " 'II',\n",
              " 'II',\n",
              " 'II',\n",
              " 'II',\n",
              " 'II',\n",
              " 'II',\n",
              " 'II',\n",
              " 'II',\n",
              " 'II',\n",
              " 'II',\n",
              " 'II',\n",
              " 'II',\n",
              " 'II',\n",
              " 'II',\n",
              " 'II',\n",
              " 'II',\n",
              " 'II',\n",
              " 'II',\n",
              " 'I',\n",
              " 'II',\n",
              " 'II',\n",
              " 'I',\n",
              " 'II',\n",
              " 'II',\n",
              " 'II',\n",
              " 'II',\n",
              " 'II',\n",
              " 'II',\n",
              " 'II',\n",
              " 'II',\n",
              " 'I',\n",
              " 'II',\n",
              " 'II',\n",
              " 'II',\n",
              " 'II',\n",
              " 'II',\n",
              " 'I',\n",
              " 'I',\n",
              " 'I',\n",
              " 'I',\n",
              " 'II',\n",
              " 'I',\n",
              " 'II',\n",
              " 'II',\n",
              " 'II',\n",
              " 'I',\n",
              " 'II',\n",
              " 'II',\n",
              " 'I',\n",
              " 'I',\n",
              " 'I',\n",
              " 'II',\n",
              " 'I',\n",
              " 'I',\n",
              " 'I',\n",
              " 'I',\n",
              " 'I',\n",
              " 'I',\n",
              " 'I',\n",
              " 'II',\n",
              " 'I',\n",
              " 'I',\n",
              " 'I',\n",
              " 'I',\n",
              " 'I',\n",
              " 'I',\n",
              " 'I',\n",
              " 'I',\n",
              " 'I',\n",
              " 'I',\n",
              " 'I',\n",
              " 'I',\n",
              " 'I',\n",
              " 'I',\n",
              " 'I',\n",
              " 'I',\n",
              " 'I',\n",
              " 'I',\n",
              " 'II',\n",
              " 'II',\n",
              " 'I',\n",
              " 'II',\n",
              " 'I',\n",
              " 'I',\n",
              " 'I',\n",
              " 'I',\n",
              " 'II',\n",
              " 'II',\n",
              " 'I',\n",
              " 'I',\n",
              " 'I',\n",
              " 'I',\n",
              " 'II',\n",
              " 'I',\n",
              " 'I',\n",
              " 'I',\n",
              " 'II',\n",
              " 'I',\n",
              " 'I',\n",
              " 'I',\n",
              " 'I',\n",
              " 'I',\n",
              " 'I',\n",
              " 'I',\n",
              " 'I',\n",
              " 'II',\n",
              " 'II',\n",
              " 'I',\n",
              " 'I',\n",
              " 'II',\n",
              " 'I',\n",
              " 'I',\n",
              " 'I',\n",
              " 'II',\n",
              " 'I',\n",
              " 'I',\n",
              " 'I',\n",
              " 'I',\n",
              " 'I',\n",
              " 'I',\n",
              " 'II',\n",
              " 'II',\n",
              " 'I',\n",
              " 'I',\n",
              " 'II',\n",
              " 'II',\n",
              " 'II',\n",
              " 'I',\n",
              " 'I',\n",
              " 'II',\n",
              " 'I',\n",
              " 'I',\n",
              " 'I',\n",
              " 'I',\n",
              " 'I',\n",
              " 'I',\n",
              " 'I',\n",
              " 'II',\n",
              " 'I',\n",
              " 'I',\n",
              " 'II',\n",
              " 'I',\n",
              " 'I',\n",
              " 'I',\n",
              " 'II',\n",
              " 'I',\n",
              " 'I',\n",
              " 'II',\n",
              " 'II',\n",
              " 'II',\n",
              " 'II',\n",
              " 'II',\n",
              " 'II',\n",
              " 'II',\n",
              " 'II',\n",
              " 'II',\n",
              " 'II',\n",
              " 'II',\n",
              " 'II',\n",
              " 'II',\n",
              " 'II',\n",
              " 'II',\n",
              " 'II',\n",
              " 'II',\n",
              " 'II',\n",
              " 'II',\n",
              " 'II',\n",
              " 'II',\n",
              " 'II',\n",
              " 'I',\n",
              " 'I',\n",
              " 'I',\n",
              " 'II',\n",
              " 'II',\n",
              " 'II',\n",
              " 'I',\n",
              " 'I',\n",
              " 'II',\n",
              " 'I',\n",
              " 'I',\n",
              " 'I',\n",
              " 'I',\n",
              " 'II',\n",
              " 'I',\n",
              " 'I',\n",
              " 'II',\n",
              " 'II',\n",
              " 'II',\n",
              " 'II',\n",
              " 'II',\n",
              " 'II',\n",
              " 'II',\n",
              " 'II',\n",
              " 'II',\n",
              " 'II',\n",
              " 'II',\n",
              " 'II',\n",
              " 'II',\n",
              " 'II',\n",
              " 'II',\n",
              " 'II',\n",
              " 'II',\n",
              " 'II',\n",
              " 'II',\n",
              " 'II',\n",
              " 'I',\n",
              " 'I',\n",
              " 'I',\n",
              " 'I',\n",
              " 'I',\n",
              " 'I',\n",
              " 'I',\n",
              " 'I',\n",
              " 'II',\n",
              " 'II',\n",
              " 'I',\n",
              " 'II',\n",
              " 'II',\n",
              " 'II',\n",
              " 'I',\n",
              " 'I',\n",
              " 'I',\n",
              " 'I',\n",
              " 'I',\n",
              " 'II',\n",
              " 'II',\n",
              " 'II',\n",
              " 'II',\n",
              " 'II',\n",
              " 'II',\n",
              " 'II',\n",
              " 'II',\n",
              " 'II',\n",
              " 'II',\n",
              " 'II',\n",
              " 'II',\n",
              " 'II',\n",
              " 'I',\n",
              " 'II',\n",
              " 'II',\n",
              " 'II',\n",
              " 'II',\n",
              " 'II',\n",
              " 'II',\n",
              " 'II',\n",
              " 'II',\n",
              " 'II',\n",
              " 'II',\n",
              " 'II',\n",
              " 'I',\n",
              " 'II',\n",
              " 'II',\n",
              " 'II',\n",
              " 'II',\n",
              " 'II',\n",
              " 'II',\n",
              " 'II',\n",
              " 'II',\n",
              " 'I',\n",
              " 'II',\n",
              " 'II',\n",
              " 'II',\n",
              " 'I',\n",
              " 'II',\n",
              " 'II',\n",
              " 'II',\n",
              " 'II',\n",
              " 'II',\n",
              " 'II',\n",
              " 'I',\n",
              " 'II',\n",
              " 'II',\n",
              " 'II',\n",
              " 'II',\n",
              " 'II',\n",
              " 'II',\n",
              " 'II',\n",
              " 'I',\n",
              " 'II',\n",
              " 'I',\n",
              " 'II',\n",
              " 'I',\n",
              " 'I',\n",
              " 'I',\n",
              " 'I',\n",
              " 'I',\n",
              " 'I',\n",
              " 'I',\n",
              " 'I',\n",
              " 'I',\n",
              " 'I',\n",
              " 'I',\n",
              " 'I',\n",
              " 'I',\n",
              " 'I',\n",
              " 'I',\n",
              " 'II',\n",
              " 'II',\n",
              " 'I',\n",
              " 'I',\n",
              " 'I',\n",
              " 'I',\n",
              " 'II',\n",
              " 'I',\n",
              " 'I',\n",
              " 'I',\n",
              " 'I',\n",
              " 'I',\n",
              " 'I',\n",
              " 'I',\n",
              " 'II',\n",
              " 'II',\n",
              " 'I',\n",
              " 'I',\n",
              " 'I',\n",
              " 'I',\n",
              " 'I',\n",
              " 'I',\n",
              " 'I',\n",
              " 'II',\n",
              " 'II',\n",
              " 'II',\n",
              " 'II',\n",
              " 'II',\n",
              " 'II',\n",
              " 'II',\n",
              " 'II',\n",
              " 'II',\n",
              " 'II',\n",
              " 'II',\n",
              " 'II',\n",
              " 'II',\n",
              " 'II',\n",
              " 'II',\n",
              " 'I',\n",
              " 'II',\n",
              " 'II',\n",
              " 'II',\n",
              " 'II',\n",
              " 'II',\n",
              " 'II',\n",
              " 'II',\n",
              " 'II',\n",
              " 'II',\n",
              " 'II',\n",
              " 'II',\n",
              " 'II',\n",
              " 'II',\n",
              " 'II',\n",
              " 'II',\n",
              " 'II',\n",
              " 'II',\n",
              " 'II',\n",
              " 'II',\n",
              " 'I',\n",
              " 'II',\n",
              " 'II']"
            ]
          },
          "execution_count": 55,
          "metadata": {},
          "output_type": "execute_result"
        }
      ],
      "source": [
        "preceding_character_types_alphabet = data_dict_test_task3[\"unseen_images_preceding_types\"][alphabet]\n",
        "preceding_character_types_alphabet"
      ]
    },
    {
      "cell_type": "code",
      "execution_count": null,
      "id": "66c0382e",
      "metadata": {
        "colab": {
          "base_uri": "https://localhost:8080/"
        },
        "id": "66c0382e",
        "outputId": "7c90b380-4594-41f2-d389-b7edb4e26a79"
      },
      "outputs": [
        {
          "name": "stderr",
          "output_type": "stream",
          "text": [
            "100%|██████████| 20/20 [00:32<00:00,  1.62s/it]"
          ]
        },
        {
          "name": "stdout",
          "output_type": "stream",
          "text": [
            "with factor 0.35: 0.5106620876926763\n"
          ]
        },
        {
          "name": "stderr",
          "output_type": "stream",
          "text": [
            "\n"
          ]
        }
      ],
      "source": [
        "x = 0.35\n",
        "accuracy_with = get_accuracy(model1, data_dict_test_task3, k=1, transform=DATA_TRANSFORM_TASK1, use_domain_knowledge=True, domain_knowledge_factor=x)\n",
        "print(f\"with factor {x}:\", accuracy_with)"
      ]
    },
    {
      "cell_type": "code",
      "execution_count": null,
      "id": "5eceb3fc",
      "metadata": {
        "colab": {
          "base_uri": "https://localhost:8080/"
        },
        "id": "5eceb3fc",
        "outputId": "4975a2df-81ab-4b8d-8c16-4ae9da619d54"
      },
      "outputs": [
        {
          "name": "stderr",
          "output_type": "stream",
          "text": [
            "100%|██████████| 20/20 [00:31<00:00,  1.59s/it]\n"
          ]
        },
        {
          "name": "stdout",
          "output_type": "stream",
          "text": [
            "0.911428799616644\n"
          ]
        },
        {
          "name": "stderr",
          "output_type": "stream",
          "text": [
            "100%|██████████| 20/20 [00:31<00:00,  1.56s/it]"
          ]
        },
        {
          "name": "stdout",
          "output_type": "stream",
          "text": [
            "0.9059180576631259\n"
          ]
        },
        {
          "name": "stderr",
          "output_type": "stream",
          "text": [
            "\n"
          ]
        }
      ],
      "source": [
        "accuracy_with = get_accuracy(model1, data_dict_test_task3, k=8, transform=DATA_TRANSFORM_TASK1, use_domain_knowledge=True, domain_knowledge_factor=0.3)\n",
        "print(accuracy_with)\n",
        "accuracy_without = get_accuracy(model1, data_dict_test_task3, k=8, transform=DATA_TRANSFORM_TASK1)\n",
        "print(accuracy_without)"
      ]
    },
    {
      "cell_type": "code",
      "execution_count": null,
      "id": "SaBT0zEcd8Z1",
      "metadata": {
        "id": "SaBT0zEcd8Z1"
      },
      "outputs": [],
      "source": []
    }
  ],
  "metadata": {
    "accelerator": "GPU",
    "colab": {
      "gpuType": "T4",
      "include_colab_link": true,
      "provenance": []
    },
    "kernelspec": {
      "display_name": "Python 3",
      "name": "python3"
    },
    "language_info": {
      "codemirror_mode": {
        "name": "ipython",
        "version": 3
      },
      "file_extension": ".py",
      "mimetype": "text/x-python",
      "name": "python",
      "nbconvert_exporter": "python",
      "pygments_lexer": "ipython3",
      "version": "3.12.3"
    }
  },
  "nbformat": 4,
  "nbformat_minor": 5
}
