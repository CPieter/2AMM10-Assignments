{
  "cells": [
    {
      "cell_type": "markdown",
      "id": "cc4f04c033b0e00",
      "metadata": {
        "collapsed": false,
        "id": "cc4f04c033b0e00",
        "jupyter": {
          "outputs_hidden": false
        }
      },
      "source": [
        "# Assignment 1 2AMM10 2023-2024\n",
        "\n",
        "## Group: [Fill in your group name]\n",
        "### Member 1: [Fill in your name]\n",
        "### Member 2: [Fill in your name]\n",
        "### Member 3: [Fill in your name]"
      ]
    },
    {
      "cell_type": "code",
      "execution_count": 1,
      "id": "initial_id",
      "metadata": {
        "id": "initial_id"
      },
      "outputs": [],
      "source": [
        "import numpy as np\n",
        "import torch\n",
        "import matplotlib.pyplot as plt\n",
        "import pickle"
      ]
    },
    {
      "cell_type": "code",
      "execution_count": 2,
      "id": "d19b9de0e3461531",
      "metadata": {
        "colab": {
          "base_uri": "https://localhost:8080/",
          "height": 297
        },
        "id": "d19b9de0e3461531",
        "jupyter": {
          "outputs_hidden": false
        },
        "outputId": "5ccc0b4d-3945-410a-b8dd-c84725d29ebf"
      },
      "outputs": [],
      "source": [
        "\n",
        "# function for loading the training data:\n",
        "\n",
        "def load_data(file):\n",
        "    \"\"\"\n",
        "    This function loads the data from the specified pickle file and returns a dictionary with the data\n",
        "    :param filename: the pickle file\n",
        "    :return: dict with data -- keys and values differ for the train data and test data for each task.\n",
        "     Please see the cells with example code below for explanations and examples of the data structure per data set.\n",
        "    \"\"\"\n",
        "    with open(file, 'rb') as f:\n",
        "        data_dict = pickle.load(f)\n",
        "    return data_dict\n",
        "\n",
        "train_data = load_data('data/a1/train_data.pkl')"
      ]
    },
    {
      "cell_type": "code",
      "execution_count": 5,
      "id": "TiECgK1-djJJ",
      "metadata": {
        "colab": {
          "base_uri": "https://localhost:8080/"
        },
        "id": "TiECgK1-djJJ",
        "outputId": "d53295e9-2040-4543-a70f-fa24d888e9f1"
      },
      "outputs": [
        {
          "name": "stdout",
          "output_type": "stream",
          "text": [
            "mkdir: cannot create directory ‘drive’: File exists\n",
            "Drive already mounted at drive; to attempt to forcibly remount, call drive.mount(\"drive\", force_remount=True).\n"
          ]
        }
      ],
      "source": [
        "# '''\n",
        "# use this cell to mount your drive if you're using Google Colab\n",
        "from google.colab import drive\n",
        "!mkdir drive\n",
        "drive.mount('drive')\n",
        "\n",
        "train_data = load_data('drive/MyDrive/GoogleColab/2AMM10/data_A1_2AMM10_2023_2024/train_data.pkl')\n",
        "data_dict_test = load_data('drive/MyDrive/GoogleColab/2AMM10/data_A1_2AMM10_2023_2024/test_data_task1.pkl')\n",
        "data_dict_test_task2 = load_data('drive/MyDrive/GoogleColab/2AMM10/data_A1_2AMM10_2023_2024/test_data_task2.pkl')\n",
        "# '''"
      ]
    },
    {
      "cell_type": "code",
      "execution_count": 3,
      "id": "289b9d9817ddf745",
      "metadata": {
        "colab": {
          "base_uri": "https://localhost:8080/"
        },
        "id": "289b9d9817ddf745",
        "jupyter": {
          "outputs_hidden": false
        },
        "outputId": "93b3e3f5-7c08-4b40-9816-4842ee9d7e1d"
      },
      "outputs": [
        {
          "name": "stdout",
          "output_type": "stream",
          "text": [
            "example alphabet names: ['Alphabet_of_the_Magi', 'Anglo-Saxon_Futhorc', 'Arcadian', 'Armenian', 'Asomtavruli_(Georgian)']\n",
            "\n",
            "\n",
            "how to get an example image for a specific character:\n",
            "shape of image 2 of character character06 of alphabet Asomtavruli_(Georgian): torch.Size([1, 105, 105])\n"
          ]
        }
      ],
      "source": [
        "# the structure of the training data is a dict, where the keys are strings indicating the alphabet.\n",
        "# The values are again dicts, with the keys being the character and the values being a list of images of that character.\n",
        "\n",
        "# see the code below for examples of working with the train data\n",
        "\n",
        "alphabets = list(train_data.keys())\n",
        "\n",
        "\n",
        "print('example alphabet names:', alphabets[:5])\n",
        "print('\\n')\n",
        "print('how to get an example image for a specific character:')\n",
        "\n",
        "alphabet_id = 4\n",
        "alphabet = alphabets[alphabet_id]  # a dict\n",
        "characters_for_this_alphabet = list(train_data[alphabet].keys())\n",
        "character_id = 5\n",
        "character = characters_for_this_alphabet[character_id]\n",
        "image_id = 2\n",
        "\n",
        "print(f'shape of image {image_id} of character {character} of alphabet {alphabet}:', train_data[alphabet][character][image_id].shape)"
      ]
    },
    {
      "cell_type": "code",
      "execution_count": 4,
      "id": "f68bfac0812b8988",
      "metadata": {
        "id": "f68bfac0812b8988",
        "jupyter": {
          "outputs_hidden": false
        }
      },
      "outputs": [],
      "source": [
        "# function for plotting some examples:\n",
        "\n",
        "def plot_example_data(data_dict):\n",
        "    \"\"\"\n",
        "    This function plots some examples of the data\n",
        "    :param data_dict: dict with as keys a string specifying the alphabet, and as values a dict with as keys the character of the alphabet, and as values a list om images of the alphabet\n",
        "    \"\"\"\n",
        "    fig, axs = plt.subplots(2, 5, figsize=(15, 6))\n",
        "    alphabets_to_plot = np.random.choice(list(data_dict.keys()), size=10, replace=False)\n",
        "\n",
        "    for i, alphabet in enumerate(alphabets_to_plot):\n",
        "        characters = data_dict[alphabet]\n",
        "        character_to_plot = np.random.choice(list(characters.keys()), size=1)[0]\n",
        "        images = characters[character_to_plot]\n",
        "        im_idx = np.random.choice(len(images), size=1)[0]\n",
        "        print(images[im_idx].shape)\n",
        "        axs[i//5, i%5].imshow(images[im_idx].permute(1, 2, 0))\n",
        "        axs[i//5, i%5].set_title(alphabet + '\\n' + character_to_plot, fontsize=8)\n",
        "        axs[i//5, i%5].axis('off')\n",
        "    # plt.show()\n"
      ]
    },
    {
      "cell_type": "code",
      "execution_count": 5,
      "id": "511e9fbc1b85e80f",
      "metadata": {
        "colab": {
          "base_uri": "https://localhost:8080/",
          "height": 709
        },
        "id": "511e9fbc1b85e80f",
        "jupyter": {
          "outputs_hidden": false
        },
        "outputId": "7ac54f61-580c-40ae-bb43-9708c8615ff8"
      },
      "outputs": [
        {
          "name": "stdout",
          "output_type": "stream",
          "text": [
            "torch.Size([1, 105, 105])\n",
            "torch.Size([1, 105, 105])\n",
            "torch.Size([1, 105, 105])\n",
            "torch.Size([1, 105, 105])\n",
            "torch.Size([1, 105, 105])\n",
            "torch.Size([1, 105, 105])\n",
            "torch.Size([1, 105, 105])\n",
            "torch.Size([1, 105, 105])\n",
            "torch.Size([1, 105, 105])\n",
            "torch.Size([1, 105, 105])\n"
          ]
        },
        {
          "data": {
            "text/plain": [
              "<Figure size 640x480 with 0 Axes>"
            ]
          },
          "metadata": {},
          "output_type": "display_data"
        },
        {
          "data": {
            "image/png": "[encoded data removed]",
            "text/plain": [
              "<Figure size 1500x600 with 10 Axes>"
            ]
          },
          "metadata": {},
          "output_type": "display_data"
        }
      ],
      "source": [
        "plt.figure()\n",
        "plot_example_data(train_data)\n",
        "# plt.savefig('example_data.png', dpi=600)\n",
        "plt.show()"
      ]
    },
    {
      "cell_type": "markdown",
      "id": "b6449bef2185716",
      "metadata": {
        "collapsed": false,
        "id": "b6449bef2185716",
        "jupyter": {
          "outputs_hidden": false
        }
      },
      "source": [
        "# Task 1: character recognition"
      ]
    },
    {
      "cell_type": "code",
      "execution_count": 6,
      "id": "f78ab6a6133991a4",
      "metadata": {
        "id": "f78ab6a6133991a4",
        "jupyter": {
          "outputs_hidden": false
        }
      },
      "outputs": [],
      "source": [
        "# our solution:\n",
        "import pandas as pd\n",
        "\n",
        "# print(train_data['Alphabet_of_the_Magi']['character01'])\n",
        "# print(len(train_data['Alphabet_of_the_Magi']['character01']))\n",
        "\n",
        "df_tobe = []\n",
        "for alphabet in train_data.keys():\n",
        "    for key in train_data[alphabet].keys():\n",
        "        for image in train_data[alphabet][key]:\n",
        "            df_tobe.append((alphabet + '_' + key, image))\n",
        "train_data_df = pd.DataFrame(data=df_tobe)\n",
        "\n",
        "# train_data_df = pd.DataFrame(data=((alphabet + '_' + key, image) for image in train_data[alphabet][key] for key in train_data[alphabet].keys() for alphabet in train_data.keys()))\n",
        "# print(train_data_df[0])\n",
        "# print(np.array(train_data_df[1][0]).shape)"
      ]
    },
    {
      "cell_type": "code",
      "execution_count": 7,
      "id": "5ddb7870",
      "metadata": {
        "colab": {
          "base_uri": "https://localhost:8080/"
        },
        "id": "5ddb7870",
        "outputId": "70be7efa-c1f0-4dbc-bd3f-92d81922307d"
      },
      "outputs": [
        {
          "name": "stdout",
          "output_type": "stream",
          "text": [
            "dict_keys(['Alphabet_of_the_Magi', 'Anglo-Saxon_Futhorc', 'Arcadian', 'Armenian', 'Asomtavruli_(Georgian)', 'Balinese', 'Bengali', 'Blackfoot_(Canadian_Aboriginal_Syllabics)', 'Braille', 'Burmese_(Myanmar)', 'Cyrillic', 'Early_Aramaic', 'Futurama', 'Grantha', 'Greek', 'Gujarati', 'Hebrew', 'Inuktitut_(Canadian_Aboriginal_Syllabics)', 'Japanese_(hiragana)', 'Japanese_(katakana)', 'Korean', 'Latin', 'Malay_(Jawi_-_Arabic)', 'Mkhedruli_(Georgian)', 'N_Ko', 'Ojibwe_(Canadian_Aboriginal_Syllabics)', 'Sanskrit', 'Syriac_(Estrangelo)', 'Tagalog', 'Tifinagh'])\n"
          ]
        }
      ],
      "source": [
        "print(train_data.keys())\n",
        "\n",
        "# random seed\n",
        "random_seed = 42\n",
        "\n",
        "from sklearn.model_selection import train_test_split\n",
        "# split dataset into training set and validation set\n",
        "train_size = 0.8  # 80:20 split\n",
        "\n",
        "inputs_train, inputs_valid = train_test_split(\n",
        "    train_data_df[1],\n",
        "    random_state=random_seed,\n",
        "    train_size=train_size,\n",
        "    shuffle=True)\n",
        "\n",
        "targets_train, targets_valid = train_test_split(\n",
        "    train_data_df[0],\n",
        "    random_state=random_seed,\n",
        "    train_size=train_size,\n",
        "    shuffle=True)\n",
        "\n",
        "# for alphabet in train_data.keys():\n",
        "#     for character in train_data[alphabet].keys():\n",
        "#         print(len(train_data[alphabet][character]))"
      ]
    },
    {
      "cell_type": "code",
      "execution_count": 8,
      "id": "lp2fYxk3WDaw",
      "metadata": {
        "id": "lp2fYxk3WDaw"
      },
      "outputs": [],
      "source": [
        "label_to_idx_train = {k: v for v, k in enumerate(train_data_df[0].unique())}\n",
        "idx_to_label_train = {v: k for v, k in enumerate(train_data_df[0].unique())}\n",
        "\n",
        "inputs_train = inputs_train.values\n",
        "inputs_valid = inputs_valid.values\n",
        "\n",
        "targets_train = np.array([label_to_idx_train[label] for label in targets_train])\n",
        "targets_valid = np.array([label_to_idx_train[label] for label in targets_valid])"
      ]
    },
    {
      "cell_type": "code",
      "execution_count": 9,
      "id": "16b4aff5112f09b7",
      "metadata": {
        "id": "16b4aff5112f09b7",
        "jupyter": {
          "outputs_hidden": false
        }
      },
      "outputs": [],
      "source": [
        "# Datasets and Dataloaders\n",
        "from PIL import Image\n",
        "from torch.utils.data import Dataset\n",
        "from torch.utils.data.sampler import BatchSampler\n",
        "from itertools import combinations\n",
        "\n",
        "\n",
        "class CustomImageDataset(Dataset):\n",
        "    def __init__(self, inputs: list, targets: list, transform=None, target_transform=None):\n",
        "        self.inputs = inputs\n",
        "        self.targets = targets\n",
        "        self.transform = transform\n",
        "        self.target_transform = target_transform\n",
        "        self.classes = label_to_idx_train.keys()\n",
        "\n",
        "        self.inputs_dtype = torch.float32\n",
        "        self.targets_dtype = torch.long\n",
        "\n",
        "    def __len__(self):\n",
        "        return len(self.targets)\n",
        "\n",
        "    def __getitem__(self, index: int):\n",
        "\n",
        "        input_id = self.inputs[index]\n",
        "        target_id = self.targets[index]\n",
        "\n",
        "        x = self.inputs[index]\n",
        "        y = self.targets[index]\n",
        "\n",
        "        # Load input and target\n",
        "        #x=Image.open(input_id)\n",
        "        #y=Image.open(target_id)\n",
        "\n",
        "        # Preprocessing\n",
        "        if self.transform is not None:\n",
        "            x=self.transform(x).type(self.inputs_dtype)\n",
        "\n",
        "        return x, y\n",
        "\n",
        "class BalancedBatchSampler(BatchSampler):\n",
        "    \"\"\"\n",
        "    Returns batches of size n_classes * n_samples\n",
        "    \"\"\"\n",
        "\n",
        "    def __init__(self, labels, n_classes, n_samples):\n",
        "        self.labels = labels\n",
        "\n",
        "        # unique_labels = np.unique(np.array(self.labels))\n",
        "        # self.labels_set = unique_labels.tolist()\n",
        "        self.labels_set = list(set(self.labels))\n",
        "        self.label_to_indices = {label: np.where(np.array(self.labels) == label)[0]\n",
        "                                 for label in self.labels_set}\n",
        "        for l in self.labels_set:\n",
        "            np.random.shuffle(self.label_to_indices[l])\n",
        "        self.used_label_indices_count = {label: 0 for label in self.labels_set}\n",
        "        self.count = 0\n",
        "        self.n_classes = n_classes\n",
        "        self.n_samples = n_samples\n",
        "        self.n_dataset = len(self.labels)\n",
        "        self.batch_size = self.n_samples * self.n_classes\n",
        "\n",
        "    def __iter__(self):\n",
        "        self.count = 0\n",
        "        while self.count + self.batch_size < self.n_dataset:\n",
        "            classes = np.random.choice(self.labels_set, self.n_classes, replace=False)\n",
        "            indices = []\n",
        "            for class_ in classes:\n",
        "                indices.extend(self.label_to_indices[class_][\n",
        "                               self.used_label_indices_count[class_]:self.used_label_indices_count[\n",
        "                                                                         class_] + self.n_samples])\n",
        "                self.used_label_indices_count[class_] += self.n_samples\n",
        "                if self.used_label_indices_count[class_] + self.n_samples > len(self.label_to_indices[class_]):\n",
        "                    np.random.shuffle(self.label_to_indices[class_])\n",
        "                    self.used_label_indices_count[class_] = 0\n",
        "            yield indices\n",
        "            self.count += self.n_classes * self.n_samples\n",
        "\n",
        "    def __len__(self):\n",
        "        return self.n_dataset // self.batch_size\n",
        "\n",
        "\n",
        "class RandomTripletSelector():\n",
        "    \"\"\"\n",
        "    Select random negative  example for  each positive pair  to create triplets\n",
        "    \"\"\"\n",
        "\n",
        "    def __init__(self):\n",
        "        super(RandomTripletSelector, self).__init__()\n",
        "\n",
        "    def get_triplets(self, embeddings, labels):\n",
        "        labels = labels.cpu().data.numpy()\n",
        "        triplets = []\n",
        "        for label in set(labels):\n",
        "            label_mask = (labels == label)\n",
        "            label_indices = np.where(label_mask)[0]\n",
        "            if len(label_indices) < 2:\n",
        "                continue\n",
        "            negative_indices = np.where(np.logical_not(label_mask))[0]\n",
        "            anchor_positives = list(combinations(label_indices, 2))  # All anchor-positive pairs\n",
        "\n",
        "            # random choose one negative example for each positive pair\n",
        "            temp_triplets = [[anchor_positive[0], anchor_positive[1], np.random.choice(negative_indices)] for anchor_positive in anchor_positives]\n",
        "            triplets += temp_triplets\n",
        "\n",
        "        return torch.LongTensor(np.array(triplets))"
      ]
    },
    {
      "cell_type": "code",
      "execution_count": 10,
      "id": "a321cda7dee1f559",
      "metadata": {
        "id": "a321cda7dee1f559",
        "jupyter": {
          "outputs_hidden": false
        }
      },
      "outputs": [],
      "source": [
        "import torchvision.transforms as transforms\n",
        "from torchvision.transforms import Compose, ToTensor, Resize\n",
        "\n",
        "image_size_task1 = (32,32)\n",
        "\n",
        "DATA_TRANSFORM_TASK1= transforms.Compose([\n",
        "    transforms.Resize(image_size_task1),\n",
        "    transforms.RandomRotation(10)\n",
        "    # transforms.ToTensor(),\n",
        "    ])\n",
        "\n",
        "train_dataset_task1 = CustomImageDataset(inputs=inputs_train.copy()[:10000], targets=targets_train.copy()[:10000], transform=DATA_TRANSFORM_TASK1)\n",
        "val_dataset_task1 = CustomImageDataset(inputs=inputs_valid.copy()[:1000], targets=targets_valid.copy()[:1000], transform=DATA_TRANSFORM_TASK1)\n",
        "\n",
        "train_batch_sampler_task1 = BalancedBatchSampler(train_dataset_task1.targets, n_classes=20, n_samples=5)\n",
        "test_batch_sampler_task1 = BalancedBatchSampler(val_dataset_task1.targets, n_classes=20, n_samples=5)\n",
        "\n",
        "triplets_train_loader_task1 = torch.utils.data.DataLoader(train_dataset_task1, batch_sampler=train_batch_sampler_task1)\n",
        "triplets_val_loader_task1 = torch.utils.data.DataLoader(val_dataset_task1, batch_sampler=test_batch_sampler_task1)"
      ]
    },
    {
      "cell_type": "markdown",
      "id": "vLZznpi3mxoh",
      "metadata": {
        "id": "vLZznpi3mxoh"
      },
      "source": [
        "# Model"
      ]
    },
    {
      "cell_type": "code",
      "execution_count": 12,
      "id": "948e55a5ea036e8a",
      "metadata": {
        "id": "948e55a5ea036e8a",
        "jupyter": {
          "outputs_hidden": false
        }
      },
      "outputs": [],
      "source": [
        "import torch\n",
        "import torch.nn as nn\n",
        "import torch.nn.functional as F\n",
        "\n",
        "class Lambda(nn.Module):\n",
        "    def __init__(self, func):\n",
        "        super().__init__()\n",
        "        self.func = func\n",
        "\n",
        "    def forward(self, x):\n",
        "        return self.func(x)\n",
        "\n",
        "class EmbeddingNet_Task1(nn.Module):\n",
        "    def __init__(self, embedding_size=40):\n",
        "        \"\"\"CNN Builder.\"\"\"\n",
        "        super(EmbeddingNet_Task1, self).__init__()\n",
        "\n",
        "        self.embedding_size = embedding_size\n",
        "\n",
        "        self.front_layer = nn.Sequential(\n",
        "            # Conv Layer block 1\n",
        "            nn.Conv2d(in_channels=1, out_channels=32, kernel_size=3, padding=1),\n",
        "            nn.BatchNorm2d(32),\n",
        "            nn.ReLU(inplace=True),\n",
        "            nn.Conv2d(in_channels=32, out_channels=64, kernel_size=3, padding=1),\n",
        "            nn.ReLU(inplace=True),\n",
        "            nn.MaxPool2d(kernel_size=2, stride=2),\n",
        "\n",
        "            # Conv Layer block 2\n",
        "            nn.Conv2d(in_channels=64, out_channels=128, kernel_size=3, padding=1),\n",
        "            nn.BatchNorm2d(128),\n",
        "            nn.ReLU(inplace=True),\n",
        "            nn.Conv2d(in_channels=128, out_channels=128, kernel_size=3, padding=1),\n",
        "            nn.ReLU(inplace=True),\n",
        "            nn.MaxPool2d(kernel_size=2, stride=2),\n",
        "\n",
        "\n",
        "            # Conv Layer block 3\n",
        "            nn.Conv2d(in_channels=128, out_channels=256, kernel_size=3, padding=1),\n",
        "            nn.BatchNorm2d(256),\n",
        "            nn.ReLU(inplace=True),\n",
        "            nn.Conv2d(in_channels=256, out_channels=256, kernel_size=3, padding=1),\n",
        "            nn.ReLU(inplace=True),\n",
        "            nn.MaxPool2d(kernel_size=2, stride=2),\n",
        "\n",
        "            Lambda(lambda x: x.view(x.size(0), -1)),\n",
        "\n",
        "            nn.Linear(4096, 1024),\n",
        "            nn.ReLU(inplace=True),\n",
        "            nn.Linear(1024, 512),\n",
        "            nn.ReLU(inplace=True),\n",
        "        )\n",
        "\n",
        "        self.last_layer = nn.Linear(512, self.embedding_size)\n",
        "\n",
        "    def forward(self, x):\n",
        "        \"\"\"Perform forward.\"\"\"\n",
        "        # conv layers\n",
        "        x = self.front_layer(x)\n",
        "        x = self.last_layer(x)\n",
        "        return x\n",
        "\n",
        "    def get_embedding(self, x):\n",
        "        return self.forward(x)\n",
        "\n",
        "class TripletLoss(nn.Module):\n",
        "    \"\"\"\n",
        "    Triplets loss\n",
        "    Takes a batch of embeddings and corresponding labels.\n",
        "    Triplets are generated using triplet_selector object that take embeddings and targets and return indices of\n",
        "    triplets\n",
        "    \"\"\"\n",
        "\n",
        "    def __init__(self, margin, triplet_selector):\n",
        "        super(TripletLoss, self).__init__()\n",
        "        self.margin = margin\n",
        "        self.triplet_selector = triplet_selector\n",
        "\n",
        "    def forward(self, embeddings, target):\n",
        "\n",
        "        triplets = self.triplet_selector.get_triplets(embeddings, target)\n",
        "\n",
        "        if embeddings.is_cuda:\n",
        "            triplets = triplets.cuda()\n",
        "\n",
        "        anchor_idx= triplets[:, 0]\n",
        "        positive_idx= triplets[:, 1]\n",
        "        negative_idx= triplets[:, 2]\n",
        "\n",
        "\n",
        "        ap_distances = (embeddings[anchor_idx] - embeddings[positive_idx]).pow(2).sum(1)  # .pow(.5)\n",
        "        an_distances = (embeddings[anchor_idx] - embeddings[negative_idx]).pow(2).sum(1)  # .pow(.5)\n",
        "        losses = F.relu(ap_distances - an_distances + self.margin)\n",
        "\n",
        "        return losses.mean()"
      ]
    },
    {
      "cell_type": "markdown",
      "id": "I4j4D7Hmm2Wf",
      "metadata": {
        "id": "I4j4D7Hmm2Wf"
      },
      "source": [
        "# Training"
      ]
    },
    {
      "cell_type": "code",
      "execution_count": 13,
      "id": "4157ac4e",
      "metadata": {
        "id": "4157ac4e"
      },
      "outputs": [],
      "source": [
        "import numpy as np\n",
        "from tqdm import tqdm\n",
        "\n",
        "\n",
        "class Trainer():\n",
        "    def __init__(self,\n",
        "                 model: torch.nn.Module,\n",
        "                 device: torch.device,\n",
        "                 criterion: torch.nn.Module,\n",
        "                 optimizer: torch.optim.Optimizer,\n",
        "                 training_DataLoader: torch.utils.data.Dataset,\n",
        "                 validation_DataLoader: torch.utils.data.Dataset ,\n",
        "                 epochs: int\n",
        "                 ):\n",
        "\n",
        "        self.model = model\n",
        "        self.criterion = criterion\n",
        "        self.optimizer = optimizer\n",
        "        self.training_DataLoader = training_DataLoader\n",
        "        self.validation_DataLoader = validation_DataLoader\n",
        "        self.device = device\n",
        "        self.epochs = epochs\n",
        "\n",
        "\n",
        "\n",
        "\n",
        "    def run_trainer(self):\n",
        "\n",
        "\n",
        "        for epoch in tqdm(range(self.epochs)):\n",
        "\n",
        "\n",
        "\n",
        "            self.model.train()  # train mode\n",
        "\n",
        "            train_losses=[]\n",
        "            for batch in self.training_DataLoader:\n",
        "\n",
        "                x,y=batch\n",
        "                input, target = x.to(self.device), y.to(self.device)  # send to device (GPU or CPU)\n",
        "                self.optimizer.zero_grad()  # zerograd the parameters\n",
        "                out = self.model(input)  # one forward pass\n",
        "                loss = self.criterion(out, target)  # calculate loss\n",
        "\n",
        "                loss_value = loss.item()\n",
        "                train_losses.append(loss_value)\n",
        "\n",
        "                loss.backward()  # one backward pass\n",
        "                self.optimizer.step()  # update the parameters\n",
        "\n",
        "\n",
        "\n",
        "            self.model.eval()  # evaluation mode\n",
        "            valid_losses = []  # accumulate the losses here\n",
        "\n",
        "            for batch in self.validation_DataLoader:\n",
        "\n",
        "                x,y=batch\n",
        "                input, target = x.to(self.device), y.to(self.device)  # send to device (GPU or CPU)\n",
        "\n",
        "                with torch.no_grad():\n",
        "                    out = self.model(input)   # one forward pass\n",
        "                    loss = self.criterion(out, target) # calculate loss\n",
        "\n",
        "                    loss_value = loss.item()\n",
        "                    valid_losses.append(loss_value)\n",
        "\n",
        "\n",
        "\n",
        "            # print the results\n",
        "            print(\n",
        "                f'EPOCH: {epoch+1:0>{len(str(self.epochs))}}/{self.epochs}',\n",
        "                end=' '\n",
        "            )\n",
        "            print(f'LOSS: {np.mean(train_losses):.4f}',end=' ')\n",
        "            print(f'VAL-LOSS: {np.mean(valid_losses):.4f}',end='\\n')"
      ]
    },
    {
      "cell_type": "code",
      "execution_count": 34,
      "id": "gZ5PcDDNnCBz",
      "metadata": {
        "colab": {
          "base_uri": "https://localhost:8080/"
        },
        "id": "gZ5PcDDNnCBz",
        "outputId": "4553cd6a-4804-4d27-d9e8-cfb606d8146d"
      },
      "outputs": [
        {
          "name": "stderr",
          "output_type": "stream",
          "text": [
            "100%|██████████| 1/1 [00:52<00:00, 52.48s/it]"
          ]
        },
        {
          "name": "stdout",
          "output_type": "stream",
          "text": [
            "EPOCH: 1/1 LOSS: 0.7655 VAL-LOSS: 0.5111\n"
          ]
        },
        {
          "name": "stderr",
          "output_type": "stream",
          "text": [
            "\n"
          ]
        }
      ],
      "source": [
        "# device\n",
        "if torch.cuda.is_available():\n",
        "    device = torch.device('cuda')\n",
        "else:\n",
        "    device=torch.device('cpu')\n",
        "\n",
        "# model\n",
        "embedding_net = EmbeddingNet_Task1()\n",
        "model1 = embedding_net.to(device)\n",
        "\n",
        "\n",
        "# margin value\n",
        "margin=1\n",
        "\n",
        "# criterion\n",
        "criterion = TripletLoss(margin,  RandomTripletSelector())\n",
        "\n",
        "# optimizer\n",
        "optimizer = torch.optim.SGD(model1.parameters(), lr=0.001, momentum=0.9)\n",
        "\n",
        "# trainer\n",
        "trainer = Trainer(model=model1,\n",
        "                  device=device,\n",
        "                  criterion=criterion,\n",
        "                  optimizer=optimizer,\n",
        "                  training_DataLoader=triplets_train_loader_task1,\n",
        "                  validation_DataLoader=triplets_val_loader_task1,\n",
        "                  epochs=10)\n",
        "\n",
        "# start training\n",
        "trainer.run_trainer()"
      ]
    },
    {
      "cell_type": "markdown",
      "id": "9XdQP5d-XKdP",
      "metadata": {
        "id": "9XdQP5d-XKdP"
      },
      "source": [
        "# Evaluation"
      ]
    },
    {
      "cell_type": "markdown",
      "id": "K3V0jr_1QjZZ",
      "metadata": {
        "id": "K3V0jr_1QjZZ"
      },
      "source": [
        "**ACCURACY**"
      ]
    },
    {
      "cell_type": "code",
      "execution_count": 35,
      "id": "sJ0k27xraAuP",
      "metadata": {
        "id": "sJ0k27xraAuP"
      },
      "outputs": [],
      "source": [
        "def extract_embeddings(dataloader, model):\n",
        "\n",
        "    cuda = torch.cuda.is_available()\n",
        "    with torch.no_grad():\n",
        "        model.eval()\n",
        "        embeddings = np.zeros((len(dataloader.dataset), model.embedding_size))\n",
        "        labels = np.zeros(len(dataloader.dataset))\n",
        "        k = 0\n",
        "        for images, target in dataloader:\n",
        "            if cuda:\n",
        "                images = images.cuda()\n",
        "            embeddings[k:k+len(images)] = model.get_embedding(images).data.cpu().numpy()\n",
        "            labels[k:k+len(images)] = target.numpy()\n",
        "            k += len(images)\n",
        "    return embeddings, labels"
      ]
    },
    {
      "cell_type": "code",
      "execution_count": 36,
      "id": "4baa77b3",
      "metadata": {
        "id": "4baa77b3"
      },
      "outputs": [],
      "source": [
        "class CharacterMatcher:\n",
        "    def __init__(self, model, transform):\n",
        "        self.model = model\n",
        "        self.transform = transform\n",
        "\n",
        "\n",
        "    def fit(self, alphabet, alphabet_labels):\n",
        "        label_to_idx_alphabet = {label: idx for idx, label in enumerate(alphabet_labels)}\n",
        "        alphabet_targets = np.array([label_to_idx_alphabet[label] for label in alphabet_labels])\n",
        "\n",
        "        alphabet_dataset = CustomImageDataset(inputs=alphabet, targets=alphabet_targets, transform=self.transform)\n",
        "        alphabet_loader = torch.utils.data.DataLoader(alphabet_dataset, batch_size=256)\n",
        "\n",
        "        self.alphabet_embeddings, _ = extract_embeddings(alphabet_loader, self.model)\n",
        "        self.labels = alphabet_labels\n",
        "\n",
        "\n",
        "    def get_matches(self, image, k=1):\n",
        "        if len(self.labels) == 0:\n",
        "            print(\"character matcher must be fitted before matching\")\n",
        "            return\n",
        "\n",
        "        with torch.no_grad():\n",
        "            if torch.cuda.is_available():\n",
        "                image = image.cuda()\n",
        "            self.model.eval()\n",
        "\n",
        "            image = image[None,None,].type(torch.float32)\n",
        "            if self.transform is not None:\n",
        "                image = self.transform(image) \n",
        "                \n",
        "            unseen_embedding = self.model.get_embedding(image).data.cpu().numpy()\n",
        "\n",
        "        distances = [np.linalg.norm(embedding - unseen_embedding) for embedding in self.alphabet_embeddings]\n",
        "        distance_sort = np.argsort(distances)\n",
        "        return np.array(self.labels.copy())[distance_sort][:k].tolist()"
      ]
    },
    {
      "cell_type": "code",
      "execution_count": 38,
      "id": "7d2cdd4d",
      "metadata": {
        "colab": {
          "base_uri": "https://localhost:8080/"
        },
        "id": "7d2cdd4d",
        "outputId": "375b61f7-a9c9-453e-f8da-ce852d0504b3"
      },
      "outputs": [
        {
          "name": "stderr",
          "output_type": "stream",
          "text": [
            "100%|██████████| 20/20 [01:11<00:00,  3.56s/it]"
          ]
        },
        {
          "name": "stdout",
          "output_type": "stream",
          "text": [
            "total accuracy: 0.5781\n"
          ]
        },
        {
          "name": "stderr",
          "output_type": "stream",
          "text": [
            "\n"
          ]
        }
      ],
      "source": [
        "def get_accuracy(model, data_dict_test, k=1, transform=None):\n",
        "    matcher = CharacterMatcher(model, transform)\n",
        "    total = 0\n",
        "    correct = 0\n",
        "\n",
        "    alphabets = list(data_dict_test['annotated_images'].keys())\n",
        "    for alphabet_id in tqdm(alphabets):\n",
        "\n",
        "        alphabet_annotated = data_dict_test['annotated_images'][alphabet_id]\n",
        "        alphabet_annotated_labels = data_dict_test['annotated_images_labels'][alphabet_id]\n",
        "        alphabet_unseen = data_dict_test['unseen_images'][alphabet_id]\n",
        "        alphabet_unseen_labels = data_dict_test['unseen_images_labels'][alphabet_id]\n",
        "\n",
        "        matcher.fit(alphabet_annotated, alphabet_annotated_labels)\n",
        "\n",
        "        for idx, character in enumerate(alphabet_unseen):\n",
        "            label = alphabet_unseen_labels[idx]\n",
        "\n",
        "            for image in character:\n",
        "\n",
        "                k_closest_labels = matcher.get_matches(image, k)\n",
        "\n",
        "                #assess\n",
        "                if label in k_closest_labels:\n",
        "                    correct += 1\n",
        "                total += 1\n",
        "\n",
        "    return correct / total\n",
        "\n",
        "data_dict_test_task1 = load_data('data/a1/test_data_task1.pkl')\n",
        "\n",
        "accuracy = get_accuracy(model1, data_dict_test_task1, k=8, transform=DATA_TRANSFORM_TASK1)\n",
        "print(\"total accuracy:\", round(accuracy, 4))"
      ]
    },
    {
      "cell_type": "markdown",
      "id": "f49a6fcc9bcd5994",
      "metadata": {
        "collapsed": false,
        "id": "f49a6fcc9bcd5994",
        "jupyter": {
          "outputs_hidden": false
        }
      },
      "source": [
        "# Task 2: rotation problem"
      ]
    },
    {
      "cell_type": "code",
      "execution_count": 23,
      "id": "aHsaX3wbsx6S",
      "metadata": {
        "id": "aHsaX3wbsx6S"
      },
      "outputs": [],
      "source": [
        "# Model for bigger images\n",
        "class EmbeddingNet_Task2(nn.Module):\n",
        "    def __init__(self, embedding_size=40):\n",
        "        \"\"\"CNN Builder.\"\"\"\n",
        "        super(EmbeddingNet_Task2, self).__init__()\n",
        "\n",
        "        self.embedding_size = embedding_size\n",
        "\n",
        "        self.front_layer = nn.Sequential(\n",
        "            # Conv Layer block 1\n",
        "            nn.Conv2d(in_channels=1, out_channels=32, kernel_size=5, padding=1),\n",
        "            nn.BatchNorm2d(32),\n",
        "            nn.ReLU(inplace=True),\n",
        "            nn.Conv2d(in_channels=32, out_channels=32, kernel_size=5, padding=1),\n",
        "            nn.ReLU(inplace=True),\n",
        "            nn.MaxPool2d(kernel_size=2, stride=2),\n",
        "\n",
        "            # Conv Layer block 2\n",
        "            nn.Conv2d(in_channels=32, out_channels=64, kernel_size=3, padding=1),\n",
        "            nn.BatchNorm2d(64),\n",
        "            nn.ReLU(inplace=True),\n",
        "            nn.Conv2d(in_channels=64, out_channels=64, kernel_size=3, padding=1),\n",
        "            nn.ReLU(inplace=True),\n",
        "            nn.MaxPool2d(kernel_size=2, stride=2),\n",
        "\n",
        "\n",
        "            # Conv Layer block 3\n",
        "            nn.Conv2d(in_channels=64, out_channels=128, kernel_size=5, padding=1),\n",
        "            nn.BatchNorm2d(128),\n",
        "            nn.ReLU(inplace=True),\n",
        "            nn.Conv2d(in_channels=128, out_channels=128, kernel_size=5, padding=1),\n",
        "            nn.ReLU(inplace=True),\n",
        "            nn.MaxPool2d(kernel_size=2, stride=2),\n",
        "\n",
        "            # Conv Layer block 4\n",
        "            nn.Conv2d(in_channels=128, out_channels=256, kernel_size=3, padding=1),\n",
        "            nn.BatchNorm2d(256),\n",
        "            nn.ReLU(inplace=True),\n",
        "            nn.Conv2d(in_channels=256, out_channels=256, kernel_size=3, padding=1),\n",
        "            nn.ReLU(inplace=True),\n",
        "            nn.MaxPool2d(kernel_size=2, stride=2),\n",
        "\n",
        "            Lambda(lambda x: x.view(x.size(0), -1)),\n",
        "\n",
        "            nn.Linear(1024, 1024),\n",
        "            nn.ReLU(inplace=True),\n",
        "            nn.Linear(1024, 512),\n",
        "            nn.ReLU(inplace=True),\n",
        "        )\n",
        "\n",
        "        self.last_layer = nn.Linear(512, self.embedding_size)\n",
        "\n",
        "    def forward(self, x):\n",
        "        \"\"\"Perform forward.\"\"\"\n",
        "        # conv layers\n",
        "        x = self.front_layer(x)\n",
        "        x = self.last_layer(x)\n",
        "        return x\n",
        "\n",
        "    def get_embedding(self, x):\n",
        "        return self.forward(x)"
      ]
    },
    {
      "cell_type": "code",
      "execution_count": 25,
      "id": "800d9fa43d711ae0",
      "metadata": {
        "id": "800d9fa43d711ae0",
        "jupyter": {
          "outputs_hidden": false
        }
      },
      "outputs": [],
      "source": [
        "# load the test data for task 2:\n",
        "# the structure of the test data of task 2 is exactly the same as for task 1,\n",
        "# but now the images are rotated by an unknown angle between 0 and 360 degrees.\n",
        "data_dict_test_task2 = load_data('data/a1/test_data_task2.pkl')"
      ]
    },
    {
      "cell_type": "code",
      "execution_count": 26,
      "id": "ab7aa34500088f66",
      "metadata": {
        "id": "ab7aa34500088f66",
        "jupyter": {
          "outputs_hidden": false
        }
      },
      "outputs": [],
      "source": [
        "# solution and evaluation of task 2:\n",
        "import torchvision.transforms as transforms\n",
        "rotation_transform = transforms.RandomRotation(degrees=(-10, 10))"
      ]
    },
    {
      "cell_type": "code",
      "execution_count": 27,
      "id": "71298802fa5d6fb8",
      "metadata": {
        "id": "71298802fa5d6fb8",
        "jupyter": {
          "outputs_hidden": false
        }
      },
      "outputs": [],
      "source": [
        "train_data_task2 = train_data.copy()\n",
        "\n",
        "def transform_train_data(data_dict):\n",
        "  for alphabet, characters in data_dict.items():\n",
        "    for char, images in characters.items():\n",
        "      augmented_images = []\n",
        "      for image in images:\n",
        "        augmented_image = rotation_transform(image)\n",
        "        augmented_images.append(augmented_image)\n",
        "        data_dict[alphabet][char] = augmented_images\n",
        "  return data_dict"
      ]
    },
    {
      "cell_type": "code",
      "execution_count": 28,
      "id": "4e6e3e82ce917c0f",
      "metadata": {
        "id": "4e6e3e82ce917c0f",
        "jupyter": {
          "outputs_hidden": false
        }
      },
      "outputs": [],
      "source": [
        "transformed_train_data_task2 = transform_train_data(train_data_task2)"
      ]
    },
    {
      "cell_type": "code",
      "execution_count": 29,
      "id": "e701b2a68bd4d32a",
      "metadata": {
        "colab": {
          "base_uri": "https://localhost:8080/",
          "height": 535
        },
        "id": "e701b2a68bd4d32a",
        "jupyter": {
          "outputs_hidden": false
        },
        "outputId": "f242e3eb-f809-460b-85a0-ec2fdde6fc5a"
      },
      "outputs": [
        {
          "name": "stdout",
          "output_type": "stream",
          "text": [
            "torch.Size([1, 105, 105])\n",
            "torch.Size([1, 105, 105])\n",
            "torch.Size([1, 105, 105])\n",
            "torch.Size([1, 105, 105])\n",
            "torch.Size([1, 105, 105])\n",
            "torch.Size([1, 105, 105])\n",
            "torch.Size([1, 105, 105])\n",
            "torch.Size([1, 105, 105])\n",
            "torch.Size([1, 105, 105])\n",
            "torch.Size([1, 105, 105])\n"
          ]
        },
        {
          "data": {
            "text/plain": [
              "<Figure size 640x480 with 0 Axes>"
            ]
          },
          "metadata": {},
          "output_type": "display_data"
        },
        {
          "data": {
            "image/png": "[encoded data removed]",
            "text/plain": [
              "<Figure size 1500x600 with 10 Axes>"
            ]
          },
          "metadata": {},
          "output_type": "display_data"
        }
      ],
      "source": [
        "plt.figure()\n",
        "plot_example_data(transformed_train_data_task2)\n",
        "# plt.savefig('example_data.png', dpi=600)\n",
        "plt.show()"
      ]
    },
    {
      "cell_type": "code",
      "execution_count": 31,
      "id": "nDpNkuaWgXib",
      "metadata": {
        "colab": {
          "base_uri": "https://localhost:8080/",
          "height": 1000
        },
        "id": "nDpNkuaWgXib",
        "outputId": "29147526-8197-4573-d8a0-9c50dc10b8a7"
      },
      "outputs": [
        {
          "name": "stderr",
          "output_type": "stream",
          "text": [
            "100%|██████████| 1/1 [02:27<00:00, 147.98s/it]"
          ]
        },
        {
          "name": "stdout",
          "output_type": "stream",
          "text": [
            "EPOCH: 1/1 LOSS: 0.6574 VAL-LOSS: 0.4464\n"
          ]
        },
        {
          "name": "stderr",
          "output_type": "stream",
          "text": [
            "\n"
          ]
        }
      ],
      "source": [
        "#We follow the same steps as in our preprocessing of the first model to train \"model2\"\n",
        "\n",
        "df_tobe = []\n",
        "for alphabet in train_data_task2.keys():\n",
        "    for key in train_data_task2[alphabet].keys():\n",
        "        for image in train_data_task2[alphabet][key]:\n",
        "            df_tobe.append((alphabet + '_' + key, image))\n",
        "train_data_df_task2 = pd.DataFrame(data=df_tobe)\n",
        "\n",
        "# random seed\n",
        "random_seed = 42\n",
        "\n",
        "from sklearn.model_selection import train_test_split\n",
        "# split dataset into training set and validation set\n",
        "train_size = 0.8  # 80:20 split\n",
        "\n",
        "inputs_train, inputs_valid = train_test_split(\n",
        "    train_data_df[1],\n",
        "    random_state=random_seed,\n",
        "    train_size=train_size,\n",
        "    shuffle=True)\n",
        "\n",
        "targets_train, targets_valid = train_test_split(\n",
        "    train_data_df[0],\n",
        "    random_state=random_seed,\n",
        "    train_size=train_size,\n",
        "    shuffle=True)\n",
        "\n",
        "label_to_idx_train = {k: v for v, k in enumerate(train_data_df[0].unique())}\n",
        "idx_to_label_train = {v: k for v, k in enumerate(train_data_df[0].unique())}\n",
        "\n",
        "inputs_train = inputs_train.values\n",
        "inputs_valid = inputs_valid.values\n",
        "\n",
        "targets_train = np.array([label_to_idx_train[label] for label in targets_train])\n",
        "targets_valid = np.array([label_to_idx_train[label] for label in targets_valid])\n",
        "\n",
        "image_size_task2 = (64,64)\n",
        "\n",
        "DATA_TRANSFORM_TASK2 = transforms.Compose([\n",
        "    transforms.Resize(image_size_task2),\n",
        "    transforms.RandomRotation(20)\n",
        "    # transforms.ToTensor(),\n",
        "    ])\n",
        "\n",
        "train_dataset_task2 = CustomImageDataset(inputs=inputs_train.copy(), targets=targets_train.copy(), transform=DATA_TRANSFORM_TASK2)\n",
        "val_dataset_task2 = CustomImageDataset(inputs=inputs_valid.copy(), targets=targets_valid.copy(), transform=DATA_TRANSFORM_TASK2)\n",
        "\n",
        "train_batch_sampler_task2 = BalancedBatchSampler(train_dataset_task2.targets, n_classes=20, n_samples=5)\n",
        "test_batch_sampler_task2 = BalancedBatchSampler(val_dataset_task2.targets, n_classes=20, n_samples=5)\n",
        "\n",
        "triplets_train_loader_task2 = torch.utils.data.DataLoader(train_dataset_task2, batch_sampler=train_batch_sampler_task2)\n",
        "triplets_val_loader_task2 = torch.utils.data.DataLoader(val_dataset_task2, batch_sampler=test_batch_sampler_task2)\n",
        "\n",
        "# device\n",
        "if torch.cuda.is_available():\n",
        "    device = torch.device('cuda')\n",
        "else:\n",
        "    device=torch.device('cpu')\n",
        "\n",
        "# model\n",
        "embedding_net = EmbeddingNet_Task2()\n",
        "model2 = embedding_net.to(device)\n",
        "\n",
        "\n",
        "# margin value\n",
        "margin=1\n",
        "\n",
        "# criterion\n",
        "criterion = TripletLoss(margin,  RandomTripletSelector())\n",
        "\n",
        "# optimizer\n",
        "optimizer = torch.optim.SGD(model2.parameters(), lr=0.001, momentum=0.9)\n",
        "\n",
        "# trainer\n",
        "trainer = Trainer(model=model2,\n",
        "                  device=device,\n",
        "                  criterion=criterion,\n",
        "                  optimizer=optimizer,\n",
        "                  training_DataLoader=triplets_train_loader_task2,\n",
        "                  validation_DataLoader=triplets_val_loader_task2,\n",
        "                  epochs=10)\n",
        "\n",
        "# start training\n",
        "trainer.run_trainer()"
      ]
    },
    {
      "cell_type": "code",
      "execution_count": 39,
      "id": "g23914Uyi3lA",
      "metadata": {
        "colab": {
          "base_uri": "https://localhost:8080/"
        },
        "id": "g23914Uyi3lA",
        "outputId": "117d5874-afdd-42da-e690-34c509ed6ce4"
      },
      "outputs": [
        {
          "name": "stderr",
          "output_type": "stream",
          "text": [
            " 15%|█▌        | 3/20 [00:07<00:44,  2.64s/it]"
          ]
        }
      ],
      "source": [
        "#Evaluation\n",
        "\n",
        "#At the moment the accuracy of the second model is ~25% (even lower than trained on unrotated (train) data, tested on rotated (test 2) data)\n",
        "\n",
        "accuracy = get_accuracy(model1, data_dict_test_task2, k=8, transform=DATA_TRANSFORM_TASK1)\n",
        "accuracy2 = get_accuracy(model2, data_dict_test_task2, k=8, transform=DATA_TRANSFORM_TASK2)\n",
        "print(\"total accuracy (using model 1):\", round(accuracy, 4))\n",
        "print(\"total accuracy (using model 2):\", round(accuracy2, 4))"
      ]
    },
    {
      "cell_type": "markdown",
      "id": "bfdbe34799376c36",
      "metadata": {
        "collapsed": false,
        "id": "bfdbe34799376c36",
        "jupyter": {
          "outputs_hidden": false
        }
      },
      "source": [
        "# Task 3: Domain knowledge injection"
      ]
    },
    {
      "cell_type": "code",
      "execution_count": null,
      "id": "aa248dbece85da5c",
      "metadata": {
        "id": "aa248dbece85da5c",
        "jupyter": {
          "outputs_hidden": false
        }
      },
      "outputs": [],
      "source": [
        "# load the test data for task 3:\n",
        "# the structure of the data of task 3 is exactly the same as for task 1, but now our the loaded dictionary contains some additional keys.\n",
        "# These additional keys will be explained in the cells below:\n",
        "\n",
        "data_dict_test_task3 = load_data('test_data_task3.pkl')\n",
        "print(data_dict_test_task3.keys())"
      ]
    },
    {
      "cell_type": "code",
      "execution_count": null,
      "id": "7fb6a6237a187493",
      "metadata": {
        "id": "7fb6a6237a187493",
        "jupyter": {
          "outputs_hidden": false
        }
      },
      "outputs": [],
      "source": [
        "# The keys 'annotated_images', 'annotated_images_labels', 'unseen_images', 'unseen_images_labels' are the same as for task 1, and the structure of the data is exactly the same.\n",
        "\n",
        "# The key 'unseen_images_preceding_types' maps to the type of the preceding character in the sequence where the unseen image was observed, for each alphabet.\n",
        "# The key 'character_to_type_mapping' maps to the mapping of each character to its type, for each alphabet.\n",
        "# The key 'type_following_probs' maps to the probabilities of each character type being followed by another character type, for each alphabet."
      ]
    },
    {
      "cell_type": "code",
      "execution_count": null,
      "id": "ef9bcef5572f0a78",
      "metadata": {
        "id": "ef9bcef5572f0a78",
        "jupyter": {
          "outputs_hidden": false
        }
      },
      "outputs": [],
      "source": [
        "# examples:\n",
        "\n",
        "alphabet = np.random.choice(list(data_dict_test_task3['unseen_images_preceding_types'].keys()))\n",
        "print(f'Alphabet: {alphabet}')\n",
        "\n",
        "\n",
        "preceding_character_types_alphabet = data_dict_test_task3[\"unseen_images_preceding_types\"][alphabet]  # a list\n",
        "print(f'Some character types that preceded unseen images from the {alphabet} alphabet: {np.random.choice(preceding_character_types_alphabet, size=5)}')\n",
        "print(f'There are {len(preceding_character_types_alphabet)} preceding character types in the {alphabet} alphabet, and {len(data_dict_test_task3[\"unseen_images\"][alphabet])} unseen images.')\n",
        "\n",
        "\n",
        "character_to_type_mapping_alphabet = data_dict_test_task3[\"character_to_type_mapping\"][alphabet]\n",
        "# this is a dict, with as keys the characters and as values the types\n",
        "random_character = np.random.choice(list(character_to_type_mapping_alphabet.keys()))\n",
        "print(f'Type of {random_character} from the {alphabet} alphabet: {character_to_type_mapping_alphabet[random_character]}')\n",
        "\n",
        "\n",
        "\n",
        "type_following_probs_alphabet = data_dict_test_task3[\"type_following_probs\"][alphabet]  # a dict of dicts\n",
        "preceding_type = np.random.choice(list(type_following_probs_alphabet.keys()))\n",
        "following_type = np.random.choice(list(type_following_probs_alphabet[preceding_type].keys()))\n",
        "print(f'Probability of a character of type {following_type} following a character of type {preceding_type} in the {alphabet} alphabet: {type_following_probs_alphabet[preceding_type][following_type]}')\n"
      ]
    },
    {
      "cell_type": "code",
      "execution_count": null,
      "id": "cbaa137b41e610ce",
      "metadata": {
        "id": "cbaa137b41e610ce",
        "jupyter": {
          "outputs_hidden": false
        }
      },
      "outputs": [],
      "source": []
    },
    {
      "cell_type": "code",
      "execution_count": null,
      "id": "700c29e735fd10c5",
      "metadata": {
        "id": "700c29e735fd10c5",
        "jupyter": {
          "outputs_hidden": false
        }
      },
      "outputs": [],
      "source": []
    },
    {
      "cell_type": "code",
      "execution_count": null,
      "id": "eb7d09f31839b40",
      "metadata": {
        "id": "eb7d09f31839b40",
        "jupyter": {
          "outputs_hidden": false
        }
      },
      "outputs": [],
      "source": []
    },
    {
      "cell_type": "code",
      "execution_count": null,
      "id": "596ab2a615cb44e9",
      "metadata": {
        "id": "596ab2a615cb44e9",
        "jupyter": {
          "outputs_hidden": false
        }
      },
      "outputs": [],
      "source": []
    },
    {
      "cell_type": "code",
      "execution_count": null,
      "id": "a2656ede1e4adbe8",
      "metadata": {
        "id": "a2656ede1e4adbe8",
        "jupyter": {
          "outputs_hidden": false
        }
      },
      "outputs": [],
      "source": []
    },
    {
      "cell_type": "code",
      "execution_count": null,
      "id": "42d46e71207afe47",
      "metadata": {
        "id": "42d46e71207afe47",
        "jupyter": {
          "outputs_hidden": false
        }
      },
      "outputs": [],
      "source": []
    }
  ],
  "metadata": {
    "accelerator": "GPU",
    "colab": {
      "gpuType": "T4",
      "provenance": []
    },
    "kernelspec": {
      "display_name": "Python 3",
      "name": "python3"
    },
    "language_info": {
      "codemirror_mode": {
        "name": "ipython",
        "version": 3
      },
      "file_extension": ".py",
      "mimetype": "text/x-python",
      "name": "python",
      "nbconvert_exporter": "python",
      "pygments_lexer": "ipython3",
      "version": "3.12.3"
    }
  },
  "nbformat": 4,
  "nbformat_minor": 5
}
